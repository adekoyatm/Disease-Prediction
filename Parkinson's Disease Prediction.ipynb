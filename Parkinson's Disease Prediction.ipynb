{
 "cells": [
  {
   "cell_type": "markdown",
   "id": "881681a2",
   "metadata": {},
   "source": [
    "#### Objective\n",
    "\n",
    "To predict if a patient has Parkinson's disease or not"
   ]
  },
  {
   "cell_type": "markdown",
   "id": "88f5eb1f",
   "metadata": {},
   "source": [
    "Data is obtained fro UCI at: https://archive.ics.uci.edu/ml/machine-learning-databases/00470/pd_speech_features.rar\n",
    "\n",
    "Data description can be found at:\n",
    "https://archive.ics.uci.edu/ml/datasets/Parkinson%27s+Disease+Classification#"
   ]
  },
  {
   "cell_type": "code",
   "execution_count": 37,
   "id": "b81f7683",
   "metadata": {},
   "outputs": [
    {
     "data": {
      "text/plain": [
       "<function seaborn.rcmod.set(*args, **kwargs)>"
      ]
     },
     "execution_count": 37,
     "metadata": {},
     "output_type": "execute_result"
    }
   ],
   "source": [
    "import pandas as pd\n",
    "import numpy as np\n",
    "import matplotlib.pyplot as plt\n",
    "\n",
    "\n",
    "%matplotlib inline\n",
    "\n",
    "import seaborn as sns\n",
    "sns.set"
   ]
  },
  {
   "cell_type": "code",
   "execution_count": 38,
   "id": "222eee8c",
   "metadata": {},
   "outputs": [
    {
     "data": {
      "text/html": [
       "<div>\n",
       "<style scoped>\n",
       "    .dataframe tbody tr th:only-of-type {\n",
       "        vertical-align: middle;\n",
       "    }\n",
       "\n",
       "    .dataframe tbody tr th {\n",
       "        vertical-align: top;\n",
       "    }\n",
       "\n",
       "    .dataframe thead th {\n",
       "        text-align: right;\n",
       "    }\n",
       "</style>\n",
       "<table border=\"1\" class=\"dataframe\">\n",
       "  <thead>\n",
       "    <tr style=\"text-align: right;\">\n",
       "      <th></th>\n",
       "      <th>Unnamed: 0</th>\n",
       "      <th>Unnamed: 1</th>\n",
       "      <th>Baseline Features</th>\n",
       "      <th>Unnamed: 3</th>\n",
       "      <th>Unnamed: 4</th>\n",
       "      <th>Unnamed: 5</th>\n",
       "      <th>Unnamed: 6</th>\n",
       "      <th>Unnamed: 7</th>\n",
       "      <th>Unnamed: 8</th>\n",
       "      <th>Unnamed: 9</th>\n",
       "      <th>...</th>\n",
       "      <th>Unnamed: 745</th>\n",
       "      <th>Unnamed: 746</th>\n",
       "      <th>Unnamed: 747</th>\n",
       "      <th>Unnamed: 748</th>\n",
       "      <th>Unnamed: 749</th>\n",
       "      <th>Unnamed: 750</th>\n",
       "      <th>Unnamed: 751</th>\n",
       "      <th>Unnamed: 752</th>\n",
       "      <th>Unnamed: 753</th>\n",
       "      <th>Unnamed: 754</th>\n",
       "    </tr>\n",
       "  </thead>\n",
       "  <tbody>\n",
       "    <tr>\n",
       "      <th>0</th>\n",
       "      <td>id</td>\n",
       "      <td>gender</td>\n",
       "      <td>PPE</td>\n",
       "      <td>DFA</td>\n",
       "      <td>RPDE</td>\n",
       "      <td>numPulses</td>\n",
       "      <td>numPeriodsPulses</td>\n",
       "      <td>meanPeriodPulses</td>\n",
       "      <td>stdDevPeriodPulses</td>\n",
       "      <td>locPctJitter</td>\n",
       "      <td>...</td>\n",
       "      <td>tqwt_kurtosisValue_dec_28</td>\n",
       "      <td>tqwt_kurtosisValue_dec_29</td>\n",
       "      <td>tqwt_kurtosisValue_dec_30</td>\n",
       "      <td>tqwt_kurtosisValue_dec_31</td>\n",
       "      <td>tqwt_kurtosisValue_dec_32</td>\n",
       "      <td>tqwt_kurtosisValue_dec_33</td>\n",
       "      <td>tqwt_kurtosisValue_dec_34</td>\n",
       "      <td>tqwt_kurtosisValue_dec_35</td>\n",
       "      <td>tqwt_kurtosisValue_dec_36</td>\n",
       "      <td>class</td>\n",
       "    </tr>\n",
       "    <tr>\n",
       "      <th>1</th>\n",
       "      <td>0</td>\n",
       "      <td>1</td>\n",
       "      <td>0.85247</td>\n",
       "      <td>0.71826</td>\n",
       "      <td>0.57227</td>\n",
       "      <td>240</td>\n",
       "      <td>239</td>\n",
       "      <td>0.00806353</td>\n",
       "      <td>8.68E-05</td>\n",
       "      <td>0.00218</td>\n",
       "      <td>...</td>\n",
       "      <td>1.562</td>\n",
       "      <td>2.6445</td>\n",
       "      <td>3.8686</td>\n",
       "      <td>4.2105</td>\n",
       "      <td>5.1221</td>\n",
       "      <td>4.4625</td>\n",
       "      <td>2.6202</td>\n",
       "      <td>3.0004</td>\n",
       "      <td>18.9405</td>\n",
       "      <td>1</td>\n",
       "    </tr>\n",
       "    <tr>\n",
       "      <th>2</th>\n",
       "      <td>0</td>\n",
       "      <td>1</td>\n",
       "      <td>0.76686</td>\n",
       "      <td>0.69481</td>\n",
       "      <td>0.53966</td>\n",
       "      <td>234</td>\n",
       "      <td>233</td>\n",
       "      <td>0.008258256</td>\n",
       "      <td>7.31E-05</td>\n",
       "      <td>0.00195</td>\n",
       "      <td>...</td>\n",
       "      <td>1.5589</td>\n",
       "      <td>3.6107</td>\n",
       "      <td>23.5155</td>\n",
       "      <td>14.1962</td>\n",
       "      <td>11.0261</td>\n",
       "      <td>9.5082</td>\n",
       "      <td>6.5245</td>\n",
       "      <td>6.3431</td>\n",
       "      <td>45.178</td>\n",
       "      <td>1</td>\n",
       "    </tr>\n",
       "    <tr>\n",
       "      <th>3</th>\n",
       "      <td>0</td>\n",
       "      <td>1</td>\n",
       "      <td>0.85083</td>\n",
       "      <td>0.67604</td>\n",
       "      <td>0.58982</td>\n",
       "      <td>232</td>\n",
       "      <td>231</td>\n",
       "      <td>0.00833959</td>\n",
       "      <td>6.04E-05</td>\n",
       "      <td>0.00176</td>\n",
       "      <td>...</td>\n",
       "      <td>1.5643</td>\n",
       "      <td>2.3308</td>\n",
       "      <td>9.4959</td>\n",
       "      <td>10.7458</td>\n",
       "      <td>11.0177</td>\n",
       "      <td>4.8066</td>\n",
       "      <td>2.9199</td>\n",
       "      <td>3.1495</td>\n",
       "      <td>4.7666</td>\n",
       "      <td>1</td>\n",
       "    </tr>\n",
       "    <tr>\n",
       "      <th>4</th>\n",
       "      <td>1</td>\n",
       "      <td>0</td>\n",
       "      <td>0.41121</td>\n",
       "      <td>0.79672</td>\n",
       "      <td>0.59257</td>\n",
       "      <td>178</td>\n",
       "      <td>177</td>\n",
       "      <td>0.010857733</td>\n",
       "      <td>0.000182739</td>\n",
       "      <td>0.00419</td>\n",
       "      <td>...</td>\n",
       "      <td>3.7805</td>\n",
       "      <td>3.5664</td>\n",
       "      <td>5.2558</td>\n",
       "      <td>14.0403</td>\n",
       "      <td>4.2235</td>\n",
       "      <td>4.6857</td>\n",
       "      <td>4.846</td>\n",
       "      <td>6.265</td>\n",
       "      <td>4.0603</td>\n",
       "      <td>1</td>\n",
       "    </tr>\n",
       "  </tbody>\n",
       "</table>\n",
       "<p>5 rows × 755 columns</p>\n",
       "</div>"
      ],
      "text/plain": [
       "  Unnamed: 0 Unnamed: 1 Baseline Features Unnamed: 3 Unnamed: 4 Unnamed: 5  \\\n",
       "0         id     gender               PPE        DFA       RPDE  numPulses   \n",
       "1          0          1           0.85247    0.71826    0.57227        240   \n",
       "2          0          1           0.76686    0.69481    0.53966        234   \n",
       "3          0          1           0.85083    0.67604    0.58982        232   \n",
       "4          1          0           0.41121    0.79672    0.59257        178   \n",
       "\n",
       "         Unnamed: 6        Unnamed: 7          Unnamed: 8    Unnamed: 9  ...  \\\n",
       "0  numPeriodsPulses  meanPeriodPulses  stdDevPeriodPulses  locPctJitter  ...   \n",
       "1               239        0.00806353            8.68E-05       0.00218  ...   \n",
       "2               233       0.008258256            7.31E-05       0.00195  ...   \n",
       "3               231        0.00833959            6.04E-05       0.00176  ...   \n",
       "4               177       0.010857733         0.000182739       0.00419  ...   \n",
       "\n",
       "                Unnamed: 745               Unnamed: 746  \\\n",
       "0  tqwt_kurtosisValue_dec_28  tqwt_kurtosisValue_dec_29   \n",
       "1                      1.562                     2.6445   \n",
       "2                     1.5589                     3.6107   \n",
       "3                     1.5643                     2.3308   \n",
       "4                     3.7805                     3.5664   \n",
       "\n",
       "                Unnamed: 747               Unnamed: 748  \\\n",
       "0  tqwt_kurtosisValue_dec_30  tqwt_kurtosisValue_dec_31   \n",
       "1                     3.8686                     4.2105   \n",
       "2                    23.5155                    14.1962   \n",
       "3                     9.4959                    10.7458   \n",
       "4                     5.2558                    14.0403   \n",
       "\n",
       "                Unnamed: 749               Unnamed: 750  \\\n",
       "0  tqwt_kurtosisValue_dec_32  tqwt_kurtosisValue_dec_33   \n",
       "1                     5.1221                     4.4625   \n",
       "2                    11.0261                     9.5082   \n",
       "3                    11.0177                     4.8066   \n",
       "4                     4.2235                     4.6857   \n",
       "\n",
       "                Unnamed: 751               Unnamed: 752  \\\n",
       "0  tqwt_kurtosisValue_dec_34  tqwt_kurtosisValue_dec_35   \n",
       "1                     2.6202                     3.0004   \n",
       "2                     6.5245                     6.3431   \n",
       "3                     2.9199                     3.1495   \n",
       "4                      4.846                      6.265   \n",
       "\n",
       "                Unnamed: 753 Unnamed: 754  \n",
       "0  tqwt_kurtosisValue_dec_36        class  \n",
       "1                    18.9405            1  \n",
       "2                     45.178            1  \n",
       "3                     4.7666            1  \n",
       "4                     4.0603            1  \n",
       "\n",
       "[5 rows x 755 columns]"
      ]
     },
     "execution_count": 38,
     "metadata": {},
     "output_type": "execute_result"
    }
   ],
   "source": [
    "filepath = pd.read_csv('pd_speech_features.csv')\n",
    "data = filepath\n",
    "data.head()"
   ]
  },
  {
   "cell_type": "markdown",
   "id": "4df4bbfc",
   "metadata": {},
   "source": [
    "#### Feature Engineering"
   ]
  },
  {
   "cell_type": "markdown",
   "id": "c2bbec8a",
   "metadata": {},
   "source": [
    "The second row has to be made the columns"
   ]
  },
  {
   "cell_type": "code",
   "execution_count": 39,
   "id": "1bb731fd",
   "metadata": {},
   "outputs": [
    {
     "data": {
      "text/html": [
       "<div>\n",
       "<style scoped>\n",
       "    .dataframe tbody tr th:only-of-type {\n",
       "        vertical-align: middle;\n",
       "    }\n",
       "\n",
       "    .dataframe tbody tr th {\n",
       "        vertical-align: top;\n",
       "    }\n",
       "\n",
       "    .dataframe thead th {\n",
       "        text-align: right;\n",
       "    }\n",
       "</style>\n",
       "<table border=\"1\" class=\"dataframe\">\n",
       "  <thead>\n",
       "    <tr style=\"text-align: right;\">\n",
       "      <th></th>\n",
       "      <th>id</th>\n",
       "      <th>gender</th>\n",
       "      <th>PPE</th>\n",
       "      <th>DFA</th>\n",
       "      <th>RPDE</th>\n",
       "      <th>numPulses</th>\n",
       "      <th>numPeriodsPulses</th>\n",
       "      <th>meanPeriodPulses</th>\n",
       "      <th>stdDevPeriodPulses</th>\n",
       "      <th>locPctJitter</th>\n",
       "      <th>...</th>\n",
       "      <th>tqwt_kurtosisValue_dec_28</th>\n",
       "      <th>tqwt_kurtosisValue_dec_29</th>\n",
       "      <th>tqwt_kurtosisValue_dec_30</th>\n",
       "      <th>tqwt_kurtosisValue_dec_31</th>\n",
       "      <th>tqwt_kurtosisValue_dec_32</th>\n",
       "      <th>tqwt_kurtosisValue_dec_33</th>\n",
       "      <th>tqwt_kurtosisValue_dec_34</th>\n",
       "      <th>tqwt_kurtosisValue_dec_35</th>\n",
       "      <th>tqwt_kurtosisValue_dec_36</th>\n",
       "      <th>class</th>\n",
       "    </tr>\n",
       "  </thead>\n",
       "  <tbody>\n",
       "    <tr>\n",
       "      <th>0</th>\n",
       "      <td>0</td>\n",
       "      <td>1</td>\n",
       "      <td>0.85247</td>\n",
       "      <td>0.71826</td>\n",
       "      <td>0.57227</td>\n",
       "      <td>240</td>\n",
       "      <td>239</td>\n",
       "      <td>0.00806353</td>\n",
       "      <td>8.68E-05</td>\n",
       "      <td>0.00218</td>\n",
       "      <td>...</td>\n",
       "      <td>1.562</td>\n",
       "      <td>2.6445</td>\n",
       "      <td>3.8686</td>\n",
       "      <td>4.2105</td>\n",
       "      <td>5.1221</td>\n",
       "      <td>4.4625</td>\n",
       "      <td>2.6202</td>\n",
       "      <td>3.0004</td>\n",
       "      <td>18.9405</td>\n",
       "      <td>1</td>\n",
       "    </tr>\n",
       "    <tr>\n",
       "      <th>1</th>\n",
       "      <td>0</td>\n",
       "      <td>1</td>\n",
       "      <td>0.76686</td>\n",
       "      <td>0.69481</td>\n",
       "      <td>0.53966</td>\n",
       "      <td>234</td>\n",
       "      <td>233</td>\n",
       "      <td>0.008258256</td>\n",
       "      <td>7.31E-05</td>\n",
       "      <td>0.00195</td>\n",
       "      <td>...</td>\n",
       "      <td>1.5589</td>\n",
       "      <td>3.6107</td>\n",
       "      <td>23.5155</td>\n",
       "      <td>14.1962</td>\n",
       "      <td>11.0261</td>\n",
       "      <td>9.5082</td>\n",
       "      <td>6.5245</td>\n",
       "      <td>6.3431</td>\n",
       "      <td>45.178</td>\n",
       "      <td>1</td>\n",
       "    </tr>\n",
       "    <tr>\n",
       "      <th>2</th>\n",
       "      <td>0</td>\n",
       "      <td>1</td>\n",
       "      <td>0.85083</td>\n",
       "      <td>0.67604</td>\n",
       "      <td>0.58982</td>\n",
       "      <td>232</td>\n",
       "      <td>231</td>\n",
       "      <td>0.00833959</td>\n",
       "      <td>6.04E-05</td>\n",
       "      <td>0.00176</td>\n",
       "      <td>...</td>\n",
       "      <td>1.5643</td>\n",
       "      <td>2.3308</td>\n",
       "      <td>9.4959</td>\n",
       "      <td>10.7458</td>\n",
       "      <td>11.0177</td>\n",
       "      <td>4.8066</td>\n",
       "      <td>2.9199</td>\n",
       "      <td>3.1495</td>\n",
       "      <td>4.7666</td>\n",
       "      <td>1</td>\n",
       "    </tr>\n",
       "    <tr>\n",
       "      <th>3</th>\n",
       "      <td>1</td>\n",
       "      <td>0</td>\n",
       "      <td>0.41121</td>\n",
       "      <td>0.79672</td>\n",
       "      <td>0.59257</td>\n",
       "      <td>178</td>\n",
       "      <td>177</td>\n",
       "      <td>0.010857733</td>\n",
       "      <td>0.000182739</td>\n",
       "      <td>0.00419</td>\n",
       "      <td>...</td>\n",
       "      <td>3.7805</td>\n",
       "      <td>3.5664</td>\n",
       "      <td>5.2558</td>\n",
       "      <td>14.0403</td>\n",
       "      <td>4.2235</td>\n",
       "      <td>4.6857</td>\n",
       "      <td>4.846</td>\n",
       "      <td>6.265</td>\n",
       "      <td>4.0603</td>\n",
       "      <td>1</td>\n",
       "    </tr>\n",
       "    <tr>\n",
       "      <th>4</th>\n",
       "      <td>1</td>\n",
       "      <td>0</td>\n",
       "      <td>0.3279</td>\n",
       "      <td>0.79782</td>\n",
       "      <td>0.53028</td>\n",
       "      <td>236</td>\n",
       "      <td>235</td>\n",
       "      <td>0.008161574</td>\n",
       "      <td>0.002668863</td>\n",
       "      <td>0.00535</td>\n",
       "      <td>...</td>\n",
       "      <td>6.1727</td>\n",
       "      <td>5.8416</td>\n",
       "      <td>6.0805</td>\n",
       "      <td>5.7621</td>\n",
       "      <td>7.7817</td>\n",
       "      <td>11.6891</td>\n",
       "      <td>8.2103</td>\n",
       "      <td>5.0559</td>\n",
       "      <td>6.1164</td>\n",
       "      <td>1</td>\n",
       "    </tr>\n",
       "  </tbody>\n",
       "</table>\n",
       "<p>5 rows × 755 columns</p>\n",
       "</div>"
      ],
      "text/plain": [
       "0 id gender      PPE      DFA     RPDE numPulses numPeriodsPulses  \\\n",
       "0  0      1  0.85247  0.71826  0.57227       240              239   \n",
       "1  0      1  0.76686  0.69481  0.53966       234              233   \n",
       "2  0      1  0.85083  0.67604  0.58982       232              231   \n",
       "3  1      0  0.41121  0.79672  0.59257       178              177   \n",
       "4  1      0   0.3279  0.79782  0.53028       236              235   \n",
       "\n",
       "0 meanPeriodPulses stdDevPeriodPulses locPctJitter  ...  \\\n",
       "0       0.00806353           8.68E-05      0.00218  ...   \n",
       "1      0.008258256           7.31E-05      0.00195  ...   \n",
       "2       0.00833959           6.04E-05      0.00176  ...   \n",
       "3      0.010857733        0.000182739      0.00419  ...   \n",
       "4      0.008161574        0.002668863      0.00535  ...   \n",
       "\n",
       "0 tqwt_kurtosisValue_dec_28 tqwt_kurtosisValue_dec_29  \\\n",
       "0                     1.562                    2.6445   \n",
       "1                    1.5589                    3.6107   \n",
       "2                    1.5643                    2.3308   \n",
       "3                    3.7805                    3.5664   \n",
       "4                    6.1727                    5.8416   \n",
       "\n",
       "0 tqwt_kurtosisValue_dec_30 tqwt_kurtosisValue_dec_31  \\\n",
       "0                    3.8686                    4.2105   \n",
       "1                   23.5155                   14.1962   \n",
       "2                    9.4959                   10.7458   \n",
       "3                    5.2558                   14.0403   \n",
       "4                    6.0805                    5.7621   \n",
       "\n",
       "0 tqwt_kurtosisValue_dec_32 tqwt_kurtosisValue_dec_33  \\\n",
       "0                    5.1221                    4.4625   \n",
       "1                   11.0261                    9.5082   \n",
       "2                   11.0177                    4.8066   \n",
       "3                    4.2235                    4.6857   \n",
       "4                    7.7817                   11.6891   \n",
       "\n",
       "0 tqwt_kurtosisValue_dec_34 tqwt_kurtosisValue_dec_35  \\\n",
       "0                    2.6202                    3.0004   \n",
       "1                    6.5245                    6.3431   \n",
       "2                    2.9199                    3.1495   \n",
       "3                     4.846                     6.265   \n",
       "4                    8.2103                    5.0559   \n",
       "\n",
       "0 tqwt_kurtosisValue_dec_36 class  \n",
       "0                   18.9405     1  \n",
       "1                    45.178     1  \n",
       "2                    4.7666     1  \n",
       "3                    4.0603     1  \n",
       "4                    6.1164     1  \n",
       "\n",
       "[5 rows x 755 columns]"
      ]
     },
     "execution_count": 39,
     "metadata": {},
     "output_type": "execute_result"
    }
   ],
   "source": [
    "data.columns = data.iloc[0]\n",
    "\n",
    "data = data.iloc[1:].reset_index(drop=True)\n",
    "\n",
    "data.head()"
   ]
  },
  {
   "cell_type": "code",
   "execution_count": 40,
   "id": "b139f7d3",
   "metadata": {},
   "outputs": [
    {
     "data": {
      "text/plain": [
       "(756, 755)"
      ]
     },
     "execution_count": 40,
     "metadata": {},
     "output_type": "execute_result"
    }
   ],
   "source": [
    "data.shape"
   ]
  },
  {
   "cell_type": "code",
   "execution_count": 41,
   "id": "fd6f3431",
   "metadata": {},
   "outputs": [
    {
     "name": "stdout",
     "output_type": "stream",
     "text": [
      "<class 'pandas.core.frame.DataFrame'>\n",
      "RangeIndex: 756 entries, 0 to 755\n",
      "Columns: 755 entries, id to class\n",
      "dtypes: object(755)\n",
      "memory usage: 4.4+ MB\n"
     ]
    }
   ],
   "source": [
    "data.info()"
   ]
  },
  {
   "cell_type": "markdown",
   "id": "77166055",
   "metadata": {},
   "source": [
    "Change dtypes to float"
   ]
  },
  {
   "cell_type": "code",
   "execution_count": 42,
   "id": "f571f152",
   "metadata": {},
   "outputs": [
    {
     "name": "stdout",
     "output_type": "stream",
     "text": [
      "<class 'pandas.core.frame.DataFrame'>\n",
      "RangeIndex: 756 entries, 0 to 755\n",
      "Columns: 755 entries, id to class\n",
      "dtypes: float64(755)\n",
      "memory usage: 4.4 MB\n"
     ]
    }
   ],
   "source": [
    "data = data.astype(\"float64\")\n",
    "\n",
    "data.info()"
   ]
  },
  {
   "cell_type": "markdown",
   "id": "1e9c739f",
   "metadata": {},
   "source": [
    "Separate to X and y"
   ]
  },
  {
   "cell_type": "code",
   "execution_count": 43,
   "id": "c6f5b795",
   "metadata": {},
   "outputs": [
    {
     "data": {
      "text/plain": [
       "0    1.0\n",
       "1    1.0\n",
       "2    1.0\n",
       "3    1.0\n",
       "4    1.0\n",
       "Name: class, dtype: float64"
      ]
     },
     "execution_count": 43,
     "metadata": {},
     "output_type": "execute_result"
    }
   ],
   "source": [
    "y = data['class']\n",
    "y.head()"
   ]
  },
  {
   "cell_type": "code",
   "execution_count": 44,
   "id": "f6d9add2",
   "metadata": {},
   "outputs": [
    {
     "data": {
      "text/html": [
       "<div>\n",
       "<style scoped>\n",
       "    .dataframe tbody tr th:only-of-type {\n",
       "        vertical-align: middle;\n",
       "    }\n",
       "\n",
       "    .dataframe tbody tr th {\n",
       "        vertical-align: top;\n",
       "    }\n",
       "\n",
       "    .dataframe thead th {\n",
       "        text-align: right;\n",
       "    }\n",
       "</style>\n",
       "<table border=\"1\" class=\"dataframe\">\n",
       "  <thead>\n",
       "    <tr style=\"text-align: right;\">\n",
       "      <th></th>\n",
       "      <th>id</th>\n",
       "      <th>gender</th>\n",
       "      <th>PPE</th>\n",
       "      <th>DFA</th>\n",
       "      <th>RPDE</th>\n",
       "      <th>numPulses</th>\n",
       "      <th>numPeriodsPulses</th>\n",
       "      <th>meanPeriodPulses</th>\n",
       "      <th>stdDevPeriodPulses</th>\n",
       "      <th>locPctJitter</th>\n",
       "      <th>...</th>\n",
       "      <th>tqwt_kurtosisValue_dec_27</th>\n",
       "      <th>tqwt_kurtosisValue_dec_28</th>\n",
       "      <th>tqwt_kurtosisValue_dec_29</th>\n",
       "      <th>tqwt_kurtosisValue_dec_30</th>\n",
       "      <th>tqwt_kurtosisValue_dec_31</th>\n",
       "      <th>tqwt_kurtosisValue_dec_32</th>\n",
       "      <th>tqwt_kurtosisValue_dec_33</th>\n",
       "      <th>tqwt_kurtosisValue_dec_34</th>\n",
       "      <th>tqwt_kurtosisValue_dec_35</th>\n",
       "      <th>tqwt_kurtosisValue_dec_36</th>\n",
       "    </tr>\n",
       "  </thead>\n",
       "  <tbody>\n",
       "    <tr>\n",
       "      <th>0</th>\n",
       "      <td>0.0</td>\n",
       "      <td>1.0</td>\n",
       "      <td>0.85247</td>\n",
       "      <td>0.71826</td>\n",
       "      <td>0.57227</td>\n",
       "      <td>240.0</td>\n",
       "      <td>239.0</td>\n",
       "      <td>0.008064</td>\n",
       "      <td>0.000087</td>\n",
       "      <td>0.00218</td>\n",
       "      <td>...</td>\n",
       "      <td>1.5466</td>\n",
       "      <td>1.5620</td>\n",
       "      <td>2.6445</td>\n",
       "      <td>3.8686</td>\n",
       "      <td>4.2105</td>\n",
       "      <td>5.1221</td>\n",
       "      <td>4.4625</td>\n",
       "      <td>2.6202</td>\n",
       "      <td>3.0004</td>\n",
       "      <td>18.9405</td>\n",
       "    </tr>\n",
       "    <tr>\n",
       "      <th>1</th>\n",
       "      <td>0.0</td>\n",
       "      <td>1.0</td>\n",
       "      <td>0.76686</td>\n",
       "      <td>0.69481</td>\n",
       "      <td>0.53966</td>\n",
       "      <td>234.0</td>\n",
       "      <td>233.0</td>\n",
       "      <td>0.008258</td>\n",
       "      <td>0.000073</td>\n",
       "      <td>0.00195</td>\n",
       "      <td>...</td>\n",
       "      <td>1.5530</td>\n",
       "      <td>1.5589</td>\n",
       "      <td>3.6107</td>\n",
       "      <td>23.5155</td>\n",
       "      <td>14.1962</td>\n",
       "      <td>11.0261</td>\n",
       "      <td>9.5082</td>\n",
       "      <td>6.5245</td>\n",
       "      <td>6.3431</td>\n",
       "      <td>45.1780</td>\n",
       "    </tr>\n",
       "    <tr>\n",
       "      <th>2</th>\n",
       "      <td>0.0</td>\n",
       "      <td>1.0</td>\n",
       "      <td>0.85083</td>\n",
       "      <td>0.67604</td>\n",
       "      <td>0.58982</td>\n",
       "      <td>232.0</td>\n",
       "      <td>231.0</td>\n",
       "      <td>0.008340</td>\n",
       "      <td>0.000060</td>\n",
       "      <td>0.00176</td>\n",
       "      <td>...</td>\n",
       "      <td>1.5399</td>\n",
       "      <td>1.5643</td>\n",
       "      <td>2.3308</td>\n",
       "      <td>9.4959</td>\n",
       "      <td>10.7458</td>\n",
       "      <td>11.0177</td>\n",
       "      <td>4.8066</td>\n",
       "      <td>2.9199</td>\n",
       "      <td>3.1495</td>\n",
       "      <td>4.7666</td>\n",
       "    </tr>\n",
       "    <tr>\n",
       "      <th>3</th>\n",
       "      <td>1.0</td>\n",
       "      <td>0.0</td>\n",
       "      <td>0.41121</td>\n",
       "      <td>0.79672</td>\n",
       "      <td>0.59257</td>\n",
       "      <td>178.0</td>\n",
       "      <td>177.0</td>\n",
       "      <td>0.010858</td>\n",
       "      <td>0.000183</td>\n",
       "      <td>0.00419</td>\n",
       "      <td>...</td>\n",
       "      <td>6.9761</td>\n",
       "      <td>3.7805</td>\n",
       "      <td>3.5664</td>\n",
       "      <td>5.2558</td>\n",
       "      <td>14.0403</td>\n",
       "      <td>4.2235</td>\n",
       "      <td>4.6857</td>\n",
       "      <td>4.8460</td>\n",
       "      <td>6.2650</td>\n",
       "      <td>4.0603</td>\n",
       "    </tr>\n",
       "    <tr>\n",
       "      <th>4</th>\n",
       "      <td>1.0</td>\n",
       "      <td>0.0</td>\n",
       "      <td>0.32790</td>\n",
       "      <td>0.79782</td>\n",
       "      <td>0.53028</td>\n",
       "      <td>236.0</td>\n",
       "      <td>235.0</td>\n",
       "      <td>0.008162</td>\n",
       "      <td>0.002669</td>\n",
       "      <td>0.00535</td>\n",
       "      <td>...</td>\n",
       "      <td>7.8832</td>\n",
       "      <td>6.1727</td>\n",
       "      <td>5.8416</td>\n",
       "      <td>6.0805</td>\n",
       "      <td>5.7621</td>\n",
       "      <td>7.7817</td>\n",
       "      <td>11.6891</td>\n",
       "      <td>8.2103</td>\n",
       "      <td>5.0559</td>\n",
       "      <td>6.1164</td>\n",
       "    </tr>\n",
       "  </tbody>\n",
       "</table>\n",
       "<p>5 rows × 754 columns</p>\n",
       "</div>"
      ],
      "text/plain": [
       "0   id  gender      PPE      DFA     RPDE  numPulses  numPeriodsPulses  \\\n",
       "0  0.0     1.0  0.85247  0.71826  0.57227      240.0             239.0   \n",
       "1  0.0     1.0  0.76686  0.69481  0.53966      234.0             233.0   \n",
       "2  0.0     1.0  0.85083  0.67604  0.58982      232.0             231.0   \n",
       "3  1.0     0.0  0.41121  0.79672  0.59257      178.0             177.0   \n",
       "4  1.0     0.0  0.32790  0.79782  0.53028      236.0             235.0   \n",
       "\n",
       "0  meanPeriodPulses  stdDevPeriodPulses  locPctJitter  ...  \\\n",
       "0          0.008064            0.000087       0.00218  ...   \n",
       "1          0.008258            0.000073       0.00195  ...   \n",
       "2          0.008340            0.000060       0.00176  ...   \n",
       "3          0.010858            0.000183       0.00419  ...   \n",
       "4          0.008162            0.002669       0.00535  ...   \n",
       "\n",
       "0  tqwt_kurtosisValue_dec_27  tqwt_kurtosisValue_dec_28  \\\n",
       "0                     1.5466                     1.5620   \n",
       "1                     1.5530                     1.5589   \n",
       "2                     1.5399                     1.5643   \n",
       "3                     6.9761                     3.7805   \n",
       "4                     7.8832                     6.1727   \n",
       "\n",
       "0  tqwt_kurtosisValue_dec_29  tqwt_kurtosisValue_dec_30  \\\n",
       "0                     2.6445                     3.8686   \n",
       "1                     3.6107                    23.5155   \n",
       "2                     2.3308                     9.4959   \n",
       "3                     3.5664                     5.2558   \n",
       "4                     5.8416                     6.0805   \n",
       "\n",
       "0  tqwt_kurtosisValue_dec_31  tqwt_kurtosisValue_dec_32  \\\n",
       "0                     4.2105                     5.1221   \n",
       "1                    14.1962                    11.0261   \n",
       "2                    10.7458                    11.0177   \n",
       "3                    14.0403                     4.2235   \n",
       "4                     5.7621                     7.7817   \n",
       "\n",
       "0  tqwt_kurtosisValue_dec_33  tqwt_kurtosisValue_dec_34  \\\n",
       "0                     4.4625                     2.6202   \n",
       "1                     9.5082                     6.5245   \n",
       "2                     4.8066                     2.9199   \n",
       "3                     4.6857                     4.8460   \n",
       "4                    11.6891                     8.2103   \n",
       "\n",
       "0  tqwt_kurtosisValue_dec_35  tqwt_kurtosisValue_dec_36  \n",
       "0                     3.0004                    18.9405  \n",
       "1                     6.3431                    45.1780  \n",
       "2                     3.1495                     4.7666  \n",
       "3                     6.2650                     4.0603  \n",
       "4                     5.0559                     6.1164  \n",
       "\n",
       "[5 rows x 754 columns]"
      ]
     },
     "execution_count": 44,
     "metadata": {},
     "output_type": "execute_result"
    }
   ],
   "source": [
    "X = data.drop('class', axis=1)\n",
    "X.head()"
   ]
  },
  {
   "cell_type": "code",
   "execution_count": 45,
   "id": "0789cd78",
   "metadata": {},
   "outputs": [
    {
     "data": {
      "text/html": [
       "<div>\n",
       "<style scoped>\n",
       "    .dataframe tbody tr th:only-of-type {\n",
       "        vertical-align: middle;\n",
       "    }\n",
       "\n",
       "    .dataframe tbody tr th {\n",
       "        vertical-align: top;\n",
       "    }\n",
       "\n",
       "    .dataframe thead th {\n",
       "        text-align: right;\n",
       "    }\n",
       "</style>\n",
       "<table border=\"1\" class=\"dataframe\">\n",
       "  <thead>\n",
       "    <tr style=\"text-align: right;\">\n",
       "      <th></th>\n",
       "      <th>gender</th>\n",
       "      <th>PPE</th>\n",
       "      <th>DFA</th>\n",
       "      <th>RPDE</th>\n",
       "      <th>numPulses</th>\n",
       "      <th>numPeriodsPulses</th>\n",
       "      <th>meanPeriodPulses</th>\n",
       "      <th>stdDevPeriodPulses</th>\n",
       "      <th>locPctJitter</th>\n",
       "      <th>locAbsJitter</th>\n",
       "      <th>...</th>\n",
       "      <th>tqwt_kurtosisValue_dec_28</th>\n",
       "      <th>tqwt_kurtosisValue_dec_29</th>\n",
       "      <th>tqwt_kurtosisValue_dec_30</th>\n",
       "      <th>tqwt_kurtosisValue_dec_31</th>\n",
       "      <th>tqwt_kurtosisValue_dec_32</th>\n",
       "      <th>tqwt_kurtosisValue_dec_33</th>\n",
       "      <th>tqwt_kurtosisValue_dec_34</th>\n",
       "      <th>tqwt_kurtosisValue_dec_35</th>\n",
       "      <th>tqwt_kurtosisValue_dec_36</th>\n",
       "      <th>class</th>\n",
       "    </tr>\n",
       "  </thead>\n",
       "  <tbody>\n",
       "    <tr>\n",
       "      <th>0</th>\n",
       "      <td>1.0</td>\n",
       "      <td>0.85247</td>\n",
       "      <td>0.71826</td>\n",
       "      <td>0.57227</td>\n",
       "      <td>240.0</td>\n",
       "      <td>239.0</td>\n",
       "      <td>0.008064</td>\n",
       "      <td>0.000087</td>\n",
       "      <td>0.00218</td>\n",
       "      <td>0.000018</td>\n",
       "      <td>...</td>\n",
       "      <td>1.5620</td>\n",
       "      <td>2.6445</td>\n",
       "      <td>3.8686</td>\n",
       "      <td>4.2105</td>\n",
       "      <td>5.1221</td>\n",
       "      <td>4.4625</td>\n",
       "      <td>2.6202</td>\n",
       "      <td>3.0004</td>\n",
       "      <td>18.9405</td>\n",
       "      <td>1.0</td>\n",
       "    </tr>\n",
       "    <tr>\n",
       "      <th>1</th>\n",
       "      <td>1.0</td>\n",
       "      <td>0.76686</td>\n",
       "      <td>0.69481</td>\n",
       "      <td>0.53966</td>\n",
       "      <td>234.0</td>\n",
       "      <td>233.0</td>\n",
       "      <td>0.008258</td>\n",
       "      <td>0.000073</td>\n",
       "      <td>0.00195</td>\n",
       "      <td>0.000016</td>\n",
       "      <td>...</td>\n",
       "      <td>1.5589</td>\n",
       "      <td>3.6107</td>\n",
       "      <td>23.5155</td>\n",
       "      <td>14.1962</td>\n",
       "      <td>11.0261</td>\n",
       "      <td>9.5082</td>\n",
       "      <td>6.5245</td>\n",
       "      <td>6.3431</td>\n",
       "      <td>45.1780</td>\n",
       "      <td>1.0</td>\n",
       "    </tr>\n",
       "    <tr>\n",
       "      <th>2</th>\n",
       "      <td>1.0</td>\n",
       "      <td>0.85083</td>\n",
       "      <td>0.67604</td>\n",
       "      <td>0.58982</td>\n",
       "      <td>232.0</td>\n",
       "      <td>231.0</td>\n",
       "      <td>0.008340</td>\n",
       "      <td>0.000060</td>\n",
       "      <td>0.00176</td>\n",
       "      <td>0.000015</td>\n",
       "      <td>...</td>\n",
       "      <td>1.5643</td>\n",
       "      <td>2.3308</td>\n",
       "      <td>9.4959</td>\n",
       "      <td>10.7458</td>\n",
       "      <td>11.0177</td>\n",
       "      <td>4.8066</td>\n",
       "      <td>2.9199</td>\n",
       "      <td>3.1495</td>\n",
       "      <td>4.7666</td>\n",
       "      <td>1.0</td>\n",
       "    </tr>\n",
       "    <tr>\n",
       "      <th>3</th>\n",
       "      <td>0.0</td>\n",
       "      <td>0.41121</td>\n",
       "      <td>0.79672</td>\n",
       "      <td>0.59257</td>\n",
       "      <td>178.0</td>\n",
       "      <td>177.0</td>\n",
       "      <td>0.010858</td>\n",
       "      <td>0.000183</td>\n",
       "      <td>0.00419</td>\n",
       "      <td>0.000046</td>\n",
       "      <td>...</td>\n",
       "      <td>3.7805</td>\n",
       "      <td>3.5664</td>\n",
       "      <td>5.2558</td>\n",
       "      <td>14.0403</td>\n",
       "      <td>4.2235</td>\n",
       "      <td>4.6857</td>\n",
       "      <td>4.8460</td>\n",
       "      <td>6.2650</td>\n",
       "      <td>4.0603</td>\n",
       "      <td>1.0</td>\n",
       "    </tr>\n",
       "    <tr>\n",
       "      <th>4</th>\n",
       "      <td>0.0</td>\n",
       "      <td>0.32790</td>\n",
       "      <td>0.79782</td>\n",
       "      <td>0.53028</td>\n",
       "      <td>236.0</td>\n",
       "      <td>235.0</td>\n",
       "      <td>0.008162</td>\n",
       "      <td>0.002669</td>\n",
       "      <td>0.00535</td>\n",
       "      <td>0.000044</td>\n",
       "      <td>...</td>\n",
       "      <td>6.1727</td>\n",
       "      <td>5.8416</td>\n",
       "      <td>6.0805</td>\n",
       "      <td>5.7621</td>\n",
       "      <td>7.7817</td>\n",
       "      <td>11.6891</td>\n",
       "      <td>8.2103</td>\n",
       "      <td>5.0559</td>\n",
       "      <td>6.1164</td>\n",
       "      <td>1.0</td>\n",
       "    </tr>\n",
       "  </tbody>\n",
       "</table>\n",
       "<p>5 rows × 754 columns</p>\n",
       "</div>"
      ],
      "text/plain": [
       "0  gender      PPE      DFA     RPDE  numPulses  numPeriodsPulses  \\\n",
       "0     1.0  0.85247  0.71826  0.57227      240.0             239.0   \n",
       "1     1.0  0.76686  0.69481  0.53966      234.0             233.0   \n",
       "2     1.0  0.85083  0.67604  0.58982      232.0             231.0   \n",
       "3     0.0  0.41121  0.79672  0.59257      178.0             177.0   \n",
       "4     0.0  0.32790  0.79782  0.53028      236.0             235.0   \n",
       "\n",
       "0  meanPeriodPulses  stdDevPeriodPulses  locPctJitter  locAbsJitter  ...  \\\n",
       "0          0.008064            0.000087       0.00218      0.000018  ...   \n",
       "1          0.008258            0.000073       0.00195      0.000016  ...   \n",
       "2          0.008340            0.000060       0.00176      0.000015  ...   \n",
       "3          0.010858            0.000183       0.00419      0.000046  ...   \n",
       "4          0.008162            0.002669       0.00535      0.000044  ...   \n",
       "\n",
       "0  tqwt_kurtosisValue_dec_28  tqwt_kurtosisValue_dec_29  \\\n",
       "0                     1.5620                     2.6445   \n",
       "1                     1.5589                     3.6107   \n",
       "2                     1.5643                     2.3308   \n",
       "3                     3.7805                     3.5664   \n",
       "4                     6.1727                     5.8416   \n",
       "\n",
       "0  tqwt_kurtosisValue_dec_30  tqwt_kurtosisValue_dec_31  \\\n",
       "0                     3.8686                     4.2105   \n",
       "1                    23.5155                    14.1962   \n",
       "2                     9.4959                    10.7458   \n",
       "3                     5.2558                    14.0403   \n",
       "4                     6.0805                     5.7621   \n",
       "\n",
       "0  tqwt_kurtosisValue_dec_32  tqwt_kurtosisValue_dec_33  \\\n",
       "0                     5.1221                     4.4625   \n",
       "1                    11.0261                     9.5082   \n",
       "2                    11.0177                     4.8066   \n",
       "3                     4.2235                     4.6857   \n",
       "4                     7.7817                    11.6891   \n",
       "\n",
       "0  tqwt_kurtosisValue_dec_34  tqwt_kurtosisValue_dec_35  \\\n",
       "0                     2.6202                     3.0004   \n",
       "1                     6.5245                     6.3431   \n",
       "2                     2.9199                     3.1495   \n",
       "3                     4.8460                     6.2650   \n",
       "4                     8.2103                     5.0559   \n",
       "\n",
       "0  tqwt_kurtosisValue_dec_36  class  \n",
       "0                    18.9405    1.0  \n",
       "1                    45.1780    1.0  \n",
       "2                     4.7666    1.0  \n",
       "3                     4.0603    1.0  \n",
       "4                     6.1164    1.0  \n",
       "\n",
       "[5 rows x 754 columns]"
      ]
     },
     "execution_count": 45,
     "metadata": {},
     "output_type": "execute_result"
    }
   ],
   "source": [
    "X = data.drop('id', axis=1)\n",
    "X.head()"
   ]
  },
  {
   "cell_type": "code",
   "execution_count": 46,
   "id": "93fa46ba",
   "metadata": {},
   "outputs": [
    {
     "data": {
      "text/plain": [
       "Index(['gender', 'PPE', 'DFA', 'RPDE', 'numPulses', 'numPeriodsPulses',\n",
       "       'meanPeriodPulses', 'stdDevPeriodPulses', 'locPctJitter',\n",
       "       'locAbsJitter',\n",
       "       ...\n",
       "       'tqwt_kurtosisValue_dec_28', 'tqwt_kurtosisValue_dec_29',\n",
       "       'tqwt_kurtosisValue_dec_30', 'tqwt_kurtosisValue_dec_31',\n",
       "       'tqwt_kurtosisValue_dec_32', 'tqwt_kurtosisValue_dec_33',\n",
       "       'tqwt_kurtosisValue_dec_34', 'tqwt_kurtosisValue_dec_35',\n",
       "       'tqwt_kurtosisValue_dec_36', 'class'],\n",
       "      dtype='object', name=0, length=754)"
      ]
     },
     "execution_count": 46,
     "metadata": {},
     "output_type": "execute_result"
    }
   ],
   "source": [
    "feature_cols = X.columns\n",
    "feature_cols"
   ]
  },
  {
   "cell_type": "code",
   "execution_count": 47,
   "id": "cee35345",
   "metadata": {},
   "outputs": [
    {
     "data": {
      "text/plain": [
       "(756, 754)"
      ]
     },
     "execution_count": 47,
     "metadata": {},
     "output_type": "execute_result"
    }
   ],
   "source": [
    "X.shape"
   ]
  },
  {
   "cell_type": "code",
   "execution_count": 48,
   "id": "2a09cdc9",
   "metadata": {},
   "outputs": [
    {
     "data": {
      "text/plain": [
       "(756,)"
      ]
     },
     "execution_count": 48,
     "metadata": {},
     "output_type": "execute_result"
    }
   ],
   "source": [
    "y.shape"
   ]
  },
  {
   "cell_type": "code",
   "execution_count": 49,
   "id": "d02ce572",
   "metadata": {},
   "outputs": [
    {
     "data": {
      "text/plain": [
       "1.0    564\n",
       "0.0    192\n",
       "Name: class, dtype: int64"
      ]
     },
     "execution_count": 49,
     "metadata": {},
     "output_type": "execute_result"
    }
   ],
   "source": [
    "y.value_counts()"
   ]
  },
  {
   "cell_type": "markdown",
   "id": "cd45d7c3",
   "metadata": {},
   "source": [
    "Use Strattified shuffle split to split into train and test sets"
   ]
  },
  {
   "cell_type": "code",
   "execution_count": 50,
   "id": "da76e506",
   "metadata": {},
   "outputs": [],
   "source": [
    "from sklearn.model_selection import StratifiedShuffleSplit\n",
    "\n",
    "strat_shuff_split = StratifiedShuffleSplit(n_splits=1, test_size=0.3, random_state=42)"
   ]
  },
  {
   "cell_type": "code",
   "execution_count": 51,
   "id": "9a092c09",
   "metadata": {},
   "outputs": [],
   "source": [
    "train_idx, test_idx = next(strat_shuff_split.split(data[feature_cols], data['class']))"
   ]
  },
  {
   "cell_type": "code",
   "execution_count": 52,
   "id": "da06a46f",
   "metadata": {},
   "outputs": [],
   "source": [
    "X_train = data.loc[train_idx, feature_cols]\n",
    "y_train = data.loc[train_idx, 'class']\n",
    "\n",
    "X_test = data.loc[test_idx, feature_cols]\n",
    "y_test =data.loc[test_idx, 'class']"
   ]
  },
  {
   "cell_type": "code",
   "execution_count": 53,
   "id": "62c79fc7",
   "metadata": {},
   "outputs": [
    {
     "data": {
      "text/plain": [
       "1.0    0.746692\n",
       "0.0    0.253308\n",
       "Name: class, dtype: float64"
      ]
     },
     "execution_count": 53,
     "metadata": {},
     "output_type": "execute_result"
    }
   ],
   "source": [
    "y_train.value_counts(normalize=True)"
   ]
  },
  {
   "cell_type": "code",
   "execution_count": 54,
   "id": "6e004951",
   "metadata": {},
   "outputs": [
    {
     "data": {
      "text/plain": [
       "1.0    0.744493\n",
       "0.0    0.255507\n",
       "Name: class, dtype: float64"
      ]
     },
     "execution_count": 54,
     "metadata": {},
     "output_type": "execute_result"
    }
   ],
   "source": [
    "y_test.value_counts(normalize=True)"
   ]
  },
  {
   "cell_type": "code",
   "execution_count": 55,
   "id": "e1214fd4",
   "metadata": {},
   "outputs": [
    {
     "name": "stdout",
     "output_type": "stream",
     "text": [
      "<class 'pandas.core.frame.DataFrame'>\n",
      "Int64Index: 529 entries, 307 to 680\n",
      "Columns: 754 entries, gender to class\n",
      "dtypes: float64(754)\n",
      "memory usage: 3.0 MB\n"
     ]
    }
   ],
   "source": [
    "X_train.info()"
   ]
  },
  {
   "cell_type": "code",
   "execution_count": 56,
   "id": "bca7bd0d",
   "metadata": {},
   "outputs": [
    {
     "name": "stdout",
     "output_type": "stream",
     "text": [
      "<class 'pandas.core.frame.DataFrame'>\n",
      "Int64Index: 227 entries, 321 to 161\n",
      "Columns: 754 entries, gender to class\n",
      "dtypes: float64(754)\n",
      "memory usage: 1.3 MB\n"
     ]
    }
   ],
   "source": [
    "X_test.info()"
   ]
  },
  {
   "cell_type": "markdown",
   "id": "1ab585cf",
   "metadata": {},
   "source": [
    "Normalizing X data by Scaling"
   ]
  },
  {
   "cell_type": "code",
   "execution_count": 57,
   "id": "7d741f4c",
   "metadata": {},
   "outputs": [],
   "source": [
    "from sklearn.preprocessing import MinMaxScaler\n",
    "\n",
    "s = MinMaxScaler()\n",
    "\n",
    "X_train = s.fit_transform(X_train)\n",
    "\n",
    "X_test = s.transform(X_test)"
   ]
  },
  {
   "cell_type": "code",
   "execution_count": 58,
   "id": "f6594ecc",
   "metadata": {},
   "outputs": [
    {
     "data": {
      "text/plain": [
       "array([[1.        , 0.71736814, 0.92883419, ..., 0.05837905, 0.02195277,\n",
       "        1.        ],\n",
       "       [1.        , 0.90062452, 0.39412079, ..., 0.72567088, 0.76203783,\n",
       "        1.        ],\n",
       "       [0.        , 0.90019732, 0.37907163, ..., 0.03204994, 0.00337507,\n",
       "        1.        ],\n",
       "       ...,\n",
       "       [1.        , 0.90329162, 0.52498161, ..., 0.08209171, 0.03164815,\n",
       "        1.        ],\n",
       "       [0.        , 0.91299017, 0.64590997, ..., 0.80798749, 0.76478129,\n",
       "        1.        ],\n",
       "       [0.        , 0.91770089, 0.09581299, ..., 0.93866114, 0.78798201,\n",
       "        1.        ]])"
      ]
     },
     "execution_count": 58,
     "metadata": {},
     "output_type": "execute_result"
    }
   ],
   "source": [
    "X_train"
   ]
  },
  {
   "cell_type": "code",
   "execution_count": 59,
   "id": "62df2186",
   "metadata": {},
   "outputs": [
    {
     "data": {
      "text/plain": [
       "array([[1.        , 0.9535047 , 0.72613872, ..., 0.14836427, 0.26927205,\n",
       "        1.        ],\n",
       "       [1.        , 0.8980036 , 0.58357301, ..., 0.01915446, 0.00433223,\n",
       "        1.        ],\n",
       "       [1.        , 0.87748655, 0.33312153, ..., 0.48982137, 0.37274868,\n",
       "        1.        ],\n",
       "       ...,\n",
       "       [0.        , 0.53832601, 0.78666979, ..., 0.03109814, 0.00729951,\n",
       "        1.        ],\n",
       "       [1.        , 0.90755205, 0.27881078, ..., 0.72954233, 0.34242903,\n",
       "        1.        ],\n",
       "       [0.        , 0.87979573, 0.69406729, ..., 0.0134758 , 0.13270433,\n",
       "        1.        ]])"
      ]
     },
     "execution_count": 59,
     "metadata": {},
     "output_type": "execute_result"
    }
   ],
   "source": [
    "X_test"
   ]
  },
  {
   "cell_type": "code",
   "execution_count": 60,
   "id": "60bca3c7",
   "metadata": {
    "scrolled": true
   },
   "outputs": [],
   "source": [
    "y_train = y_train.values\n",
    "\n",
    "y_test = y_test.values"
   ]
  },
  {
   "cell_type": "code",
   "execution_count": 61,
   "id": "1c004183",
   "metadata": {},
   "outputs": [
    {
     "data": {
      "text/plain": [
       "array([1., 1., 1., 1., 1., 1., 1., 1., 0., 1., 1., 1., 0., 0., 1., 0., 1.,\n",
       "       0., 0., 1., 1., 1., 1., 1., 0., 1., 0., 1., 1., 1., 1., 1., 0., 1.,\n",
       "       1., 1., 1., 0., 1., 0., 1., 1., 1., 1., 1., 1., 1., 1., 1., 0., 1.,\n",
       "       1., 1., 0., 1., 0., 1., 0., 1., 1., 0., 0., 0., 0., 1., 0., 0., 1.,\n",
       "       1., 1., 1., 1., 1., 1., 1., 1., 1., 1., 1., 1., 1., 1., 0., 1., 0.,\n",
       "       1., 1., 1., 0., 1., 0., 1., 0., 1., 1., 0., 1., 0., 1., 1., 0., 1.,\n",
       "       0., 1., 1., 0., 0., 1., 0., 1., 1., 1., 1., 0., 1., 1., 1., 0., 1.,\n",
       "       0., 1., 0., 1., 1., 1., 0., 1., 1., 1., 0., 1., 1., 0., 0., 1., 1.,\n",
       "       1., 1., 1., 0., 1., 0., 1., 1., 1., 1., 1., 1., 1., 1., 0., 0., 1.,\n",
       "       1., 0., 1., 1., 1., 1., 1., 1., 1., 1., 1., 1., 1., 1., 1., 1., 1.,\n",
       "       0., 1., 1., 0., 1., 1., 1., 1., 0., 1., 1., 1., 1., 1., 1., 1., 1.,\n",
       "       1., 1., 1., 1., 1., 1., 1., 1., 1., 1., 1., 1., 1., 0., 0., 1., 1.,\n",
       "       0., 1., 1., 1., 1., 1., 1., 1., 1., 1., 1., 1., 0., 1., 1., 1., 1.,\n",
       "       1., 1., 1., 1., 1., 1., 1., 1., 1., 1., 1., 1., 1., 1., 1., 1., 1.,\n",
       "       1., 1., 1., 0., 0., 0., 1., 0., 1., 0., 1., 0., 1., 0., 1., 1., 1.,\n",
       "       1., 1., 0., 0., 1., 1., 1., 1., 1., 1., 0., 1., 0., 0., 1., 1., 1.,\n",
       "       1., 1., 1., 1., 1., 1., 0., 0., 1., 1., 1., 1., 1., 0., 1., 1., 1.,\n",
       "       1., 0., 1., 0., 1., 1., 1., 1., 0., 1., 1., 1., 1., 1., 1., 1., 1.,\n",
       "       1., 1., 0., 0., 1., 0., 1., 1., 1., 1., 1., 0., 1., 0., 0., 1., 1.,\n",
       "       1., 1., 1., 1., 1., 0., 0., 0., 1., 1., 1., 1., 1., 1., 1., 1., 1.,\n",
       "       1., 0., 0., 0., 0., 1., 1., 1., 1., 1., 1., 1., 1., 0., 1., 0., 0.,\n",
       "       1., 1., 0., 1., 0., 1., 1., 0., 1., 1., 0., 1., 1., 0., 1., 0., 1.,\n",
       "       1., 1., 1., 1., 1., 1., 1., 0., 0., 1., 1., 1., 1., 1., 1., 1., 1.,\n",
       "       1., 0., 0., 1., 1., 0., 1., 1., 1., 1., 1., 0., 1., 1., 1., 0., 1.,\n",
       "       1., 0., 1., 0., 1., 0., 1., 1., 0., 0., 1., 1., 0., 1., 1., 1., 0.,\n",
       "       1., 0., 1., 0., 1., 1., 0., 1., 1., 0., 1., 1., 0., 0., 1., 1., 1.,\n",
       "       0., 0., 1., 1., 0., 1., 1., 1., 1., 1., 1., 1., 1., 1., 0., 1., 1.,\n",
       "       1., 0., 1., 1., 1., 1., 0., 1., 1., 1., 0., 1., 0., 1., 1., 0., 1.,\n",
       "       0., 0., 1., 1., 1., 1., 1., 1., 1., 1., 1., 0., 0., 0., 0., 1., 0.,\n",
       "       1., 1., 1., 1., 1., 1., 1., 1., 1., 1., 1., 1., 1., 0., 1., 1., 1.,\n",
       "       1., 1., 1., 0., 1., 0., 1., 1., 1., 1., 1., 1., 0., 1., 1., 0., 1.,\n",
       "       1., 1.])"
      ]
     },
     "execution_count": 61,
     "metadata": {},
     "output_type": "execute_result"
    }
   ],
   "source": [
    "y_train"
   ]
  },
  {
   "cell_type": "code",
   "execution_count": 62,
   "id": "33d69aea",
   "metadata": {},
   "outputs": [
    {
     "data": {
      "text/plain": [
       "array([1., 1., 1., 0., 1., 1., 1., 0., 1., 1., 1., 1., 1., 0., 1., 1., 1.,\n",
       "       1., 1., 1., 0., 1., 1., 1., 1., 1., 0., 0., 1., 1., 1., 1., 1., 1.,\n",
       "       1., 1., 0., 1., 1., 1., 1., 1., 1., 0., 1., 0., 1., 1., 1., 0., 1.,\n",
       "       1., 1., 1., 1., 1., 1., 0., 1., 1., 1., 0., 1., 0., 0., 0., 0., 1.,\n",
       "       1., 1., 1., 0., 1., 1., 1., 1., 0., 0., 1., 1., 1., 1., 1., 1., 1.,\n",
       "       1., 0., 1., 1., 0., 1., 1., 0., 0., 0., 1., 1., 1., 0., 1., 1., 0.,\n",
       "       1., 1., 1., 1., 1., 1., 1., 1., 1., 1., 1., 1., 1., 1., 1., 1., 1.,\n",
       "       1., 1., 1., 0., 0., 1., 1., 1., 1., 1., 0., 1., 1., 0., 1., 1., 1.,\n",
       "       1., 1., 0., 1., 1., 0., 1., 0., 1., 1., 0., 1., 1., 1., 1., 0., 1.,\n",
       "       1., 0., 0., 0., 1., 1., 1., 1., 1., 1., 1., 1., 0., 0., 1., 0., 1.,\n",
       "       0., 1., 1., 1., 1., 1., 1., 1., 1., 1., 1., 0., 0., 1., 0., 0., 0.,\n",
       "       0., 1., 1., 1., 1., 1., 1., 1., 0., 1., 1., 1., 1., 0., 1., 1., 0.,\n",
       "       0., 0., 1., 1., 1., 1., 0., 1., 1., 0., 1., 0., 1., 1., 0., 0., 1.,\n",
       "       1., 1., 1., 1., 1., 1.])"
      ]
     },
     "execution_count": 62,
     "metadata": {},
     "output_type": "execute_result"
    }
   ],
   "source": [
    "y_test"
   ]
  },
  {
   "cell_type": "markdown",
   "id": "e2cc914d",
   "metadata": {},
   "source": [
    "#### Modelling"
   ]
  },
  {
   "cell_type": "code",
   "execution_count": 78,
   "id": "59393073",
   "metadata": {},
   "outputs": [],
   "source": [
    "from tensorflow.keras.models  import Sequential\n",
    "from tensorflow.keras.layers import Input, Dense, Flatten, Dropout, BatchNormalization\n",
    "from tensorflow.keras.optimizers import Adam, SGD, RMSprop"
   ]
  },
  {
   "cell_type": "code",
   "execution_count": 146,
   "id": "a61f968e",
   "metadata": {},
   "outputs": [],
   "source": [
    "model_1 = Sequential([\n",
    "    Dense(754, activation='relu', input_shape = (754,)),\n",
    "    Dense(754, activation='relu'),\n",
    "    Dense(754, activation='relu'),\n",
    "    Dense(1,activation='sigmoid')\n",
    "])\n"
   ]
  },
  {
   "cell_type": "code",
   "execution_count": 147,
   "id": "7eeec185",
   "metadata": {},
   "outputs": [
    {
     "name": "stderr",
     "output_type": "stream",
     "text": [
      "WARNING:absl:`lr` is deprecated, please use `learning_rate` instead, or use the legacy optimizer, e.g.,tf.keras.optimizers.legacy.SGD.\n"
     ]
    }
   ],
   "source": [
    "Model_1.compile(optimizer=SGD(lr = .003),\n",
    "               loss=\"binary_crossentropy\",\n",
    "               metrics=['accuracy'])"
   ]
  },
  {
   "cell_type": "code",
   "execution_count": 148,
   "id": "6083c5fa",
   "metadata": {},
   "outputs": [
    {
     "name": "stdout",
     "output_type": "stream",
     "text": [
      "Epoch 1/100\n",
      "8/8 [==============================] - 1s 102ms/step - loss: 2.6794 - accuracy: 0.0888 - val_loss: 2.7377 - val_accuracy: 0.0441\n",
      "Epoch 2/100\n",
      "8/8 [==============================] - 0s 28ms/step - loss: 2.6794 - accuracy: 0.0888 - val_loss: 2.7377 - val_accuracy: 0.0441\n",
      "Epoch 3/100\n",
      "8/8 [==============================] - 0s 26ms/step - loss: 2.6794 - accuracy: 0.0888 - val_loss: 2.7377 - val_accuracy: 0.0441\n",
      "Epoch 4/100\n",
      "8/8 [==============================] - 0s 26ms/step - loss: 2.6794 - accuracy: 0.0888 - val_loss: 2.7377 - val_accuracy: 0.0441\n",
      "Epoch 5/100\n",
      "8/8 [==============================] - 0s 27ms/step - loss: 2.6794 - accuracy: 0.0888 - val_loss: 2.7377 - val_accuracy: 0.0441\n",
      "Epoch 6/100\n",
      "8/8 [==============================] - 0s 28ms/step - loss: 2.6794 - accuracy: 0.0888 - val_loss: 2.7377 - val_accuracy: 0.0441\n",
      "Epoch 7/100\n",
      "8/8 [==============================] - 0s 26ms/step - loss: 2.6794 - accuracy: 0.0888 - val_loss: 2.7377 - val_accuracy: 0.0441\n",
      "Epoch 8/100\n",
      "8/8 [==============================] - 0s 27ms/step - loss: 2.6794 - accuracy: 0.0888 - val_loss: 2.7377 - val_accuracy: 0.0441\n",
      "Epoch 9/100\n",
      "8/8 [==============================] - 0s 26ms/step - loss: 2.6794 - accuracy: 0.0888 - val_loss: 2.7377 - val_accuracy: 0.0441\n",
      "Epoch 10/100\n",
      "8/8 [==============================] - 0s 34ms/step - loss: 2.6794 - accuracy: 0.0888 - val_loss: 2.7377 - val_accuracy: 0.0441\n",
      "Epoch 11/100\n",
      "8/8 [==============================] - 0s 27ms/step - loss: 2.6794 - accuracy: 0.0888 - val_loss: 2.7377 - val_accuracy: 0.0441\n",
      "Epoch 12/100\n",
      "8/8 [==============================] - 0s 31ms/step - loss: 2.6794 - accuracy: 0.0888 - val_loss: 2.7377 - val_accuracy: 0.0441\n",
      "Epoch 13/100\n",
      "8/8 [==============================] - 0s 30ms/step - loss: 2.6794 - accuracy: 0.0888 - val_loss: 2.7377 - val_accuracy: 0.0441\n",
      "Epoch 14/100\n",
      "8/8 [==============================] - 0s 33ms/step - loss: 2.6794 - accuracy: 0.0888 - val_loss: 2.7377 - val_accuracy: 0.0441\n",
      "Epoch 15/100\n",
      "8/8 [==============================] - 0s 28ms/step - loss: 2.6794 - accuracy: 0.0888 - val_loss: 2.7377 - val_accuracy: 0.0441\n",
      "Epoch 16/100\n",
      "8/8 [==============================] - 0s 35ms/step - loss: 2.6794 - accuracy: 0.0888 - val_loss: 2.7377 - val_accuracy: 0.0441\n",
      "Epoch 17/100\n",
      "8/8 [==============================] - 0s 35ms/step - loss: 2.6794 - accuracy: 0.0888 - val_loss: 2.7377 - val_accuracy: 0.0441\n",
      "Epoch 18/100\n",
      "8/8 [==============================] - 0s 30ms/step - loss: 2.6794 - accuracy: 0.0888 - val_loss: 2.7377 - val_accuracy: 0.0441\n",
      "Epoch 19/100\n",
      "8/8 [==============================] - 0s 29ms/step - loss: 2.6794 - accuracy: 0.0888 - val_loss: 2.7377 - val_accuracy: 0.0441\n",
      "Epoch 20/100\n",
      "8/8 [==============================] - 0s 27ms/step - loss: 2.6794 - accuracy: 0.0888 - val_loss: 2.7377 - val_accuracy: 0.0441\n",
      "Epoch 21/100\n",
      "8/8 [==============================] - 0s 29ms/step - loss: 2.6794 - accuracy: 0.0888 - val_loss: 2.7377 - val_accuracy: 0.0441\n",
      "Epoch 22/100\n",
      "8/8 [==============================] - 0s 29ms/step - loss: 2.6794 - accuracy: 0.0888 - val_loss: 2.7377 - val_accuracy: 0.0441\n",
      "Epoch 23/100\n",
      "8/8 [==============================] - 0s 28ms/step - loss: 2.6794 - accuracy: 0.0888 - val_loss: 2.7377 - val_accuracy: 0.0441\n",
      "Epoch 24/100\n",
      "8/8 [==============================] - 0s 31ms/step - loss: 2.6794 - accuracy: 0.0888 - val_loss: 2.7377 - val_accuracy: 0.0441\n",
      "Epoch 25/100\n",
      "8/8 [==============================] - 0s 29ms/step - loss: 2.6794 - accuracy: 0.0888 - val_loss: 2.7377 - val_accuracy: 0.0441\n",
      "Epoch 26/100\n",
      "8/8 [==============================] - 0s 33ms/step - loss: 2.6794 - accuracy: 0.0888 - val_loss: 2.7377 - val_accuracy: 0.0441\n",
      "Epoch 27/100\n",
      "8/8 [==============================] - 0s 31ms/step - loss: 2.6794 - accuracy: 0.0888 - val_loss: 2.7377 - val_accuracy: 0.0441\n",
      "Epoch 28/100\n",
      "8/8 [==============================] - 0s 26ms/step - loss: 2.6794 - accuracy: 0.0888 - val_loss: 2.7377 - val_accuracy: 0.0441\n",
      "Epoch 29/100\n",
      "8/8 [==============================] - 0s 29ms/step - loss: 2.6794 - accuracy: 0.0888 - val_loss: 2.7377 - val_accuracy: 0.0441\n",
      "Epoch 30/100\n",
      "8/8 [==============================] - 0s 27ms/step - loss: 2.6794 - accuracy: 0.0888 - val_loss: 2.7377 - val_accuracy: 0.0441\n",
      "Epoch 31/100\n",
      "8/8 [==============================] - 0s 32ms/step - loss: 2.6794 - accuracy: 0.0888 - val_loss: 2.7377 - val_accuracy: 0.0441\n",
      "Epoch 32/100\n",
      "8/8 [==============================] - 0s 32ms/step - loss: 2.6794 - accuracy: 0.0888 - val_loss: 2.7377 - val_accuracy: 0.0441\n",
      "Epoch 33/100\n",
      "8/8 [==============================] - 0s 29ms/step - loss: 2.6794 - accuracy: 0.0888 - val_loss: 2.7377 - val_accuracy: 0.0441\n",
      "Epoch 34/100\n",
      "8/8 [==============================] - 0s 25ms/step - loss: 2.6794 - accuracy: 0.0888 - val_loss: 2.7377 - val_accuracy: 0.0441\n",
      "Epoch 35/100\n",
      "8/8 [==============================] - 0s 28ms/step - loss: 2.6794 - accuracy: 0.0888 - val_loss: 2.7377 - val_accuracy: 0.0441\n",
      "Epoch 36/100\n",
      "8/8 [==============================] - 0s 30ms/step - loss: 2.6794 - accuracy: 0.0888 - val_loss: 2.7377 - val_accuracy: 0.0441\n",
      "Epoch 37/100\n",
      "8/8 [==============================] - 0s 31ms/step - loss: 2.6794 - accuracy: 0.0888 - val_loss: 2.7377 - val_accuracy: 0.0441\n",
      "Epoch 38/100\n",
      "8/8 [==============================] - 0s 28ms/step - loss: 2.6794 - accuracy: 0.0888 - val_loss: 2.7377 - val_accuracy: 0.0441\n",
      "Epoch 39/100\n",
      "8/8 [==============================] - 0s 26ms/step - loss: 2.6794 - accuracy: 0.0888 - val_loss: 2.7377 - val_accuracy: 0.0441\n",
      "Epoch 40/100\n",
      "8/8 [==============================] - 0s 41ms/step - loss: 2.6794 - accuracy: 0.0888 - val_loss: 2.7377 - val_accuracy: 0.0441\n",
      "Epoch 41/100\n",
      "8/8 [==============================] - 0s 28ms/step - loss: 2.6794 - accuracy: 0.0888 - val_loss: 2.7377 - val_accuracy: 0.0441\n",
      "Epoch 42/100\n",
      "8/8 [==============================] - 0s 30ms/step - loss: 2.6794 - accuracy: 0.0888 - val_loss: 2.7377 - val_accuracy: 0.0441\n",
      "Epoch 43/100\n",
      "8/8 [==============================] - 0s 30ms/step - loss: 2.6794 - accuracy: 0.0888 - val_loss: 2.7377 - val_accuracy: 0.0441\n",
      "Epoch 44/100\n",
      "8/8 [==============================] - 0s 27ms/step - loss: 2.6794 - accuracy: 0.0888 - val_loss: 2.7377 - val_accuracy: 0.0441\n",
      "Epoch 45/100\n",
      "8/8 [==============================] - 0s 31ms/step - loss: 2.6794 - accuracy: 0.0888 - val_loss: 2.7377 - val_accuracy: 0.0441\n",
      "Epoch 46/100\n",
      "8/8 [==============================] - 0s 31ms/step - loss: 2.6794 - accuracy: 0.0888 - val_loss: 2.7377 - val_accuracy: 0.0441\n",
      "Epoch 47/100\n",
      "8/8 [==============================] - 0s 30ms/step - loss: 2.6794 - accuracy: 0.0888 - val_loss: 2.7377 - val_accuracy: 0.0441\n",
      "Epoch 48/100\n",
      "8/8 [==============================] - 0s 29ms/step - loss: 2.6794 - accuracy: 0.0888 - val_loss: 2.7377 - val_accuracy: 0.0441\n",
      "Epoch 49/100\n",
      "8/8 [==============================] - 0s 31ms/step - loss: 2.6794 - accuracy: 0.0888 - val_loss: 2.7377 - val_accuracy: 0.0441\n",
      "Epoch 50/100\n",
      "8/8 [==============================] - 0s 28ms/step - loss: 2.6794 - accuracy: 0.0888 - val_loss: 2.7377 - val_accuracy: 0.0441\n",
      "Epoch 51/100\n",
      "8/8 [==============================] - 0s 38ms/step - loss: 2.6794 - accuracy: 0.0888 - val_loss: 2.7377 - val_accuracy: 0.0441\n",
      "Epoch 52/100\n",
      "8/8 [==============================] - 0s 28ms/step - loss: 2.6794 - accuracy: 0.0888 - val_loss: 2.7377 - val_accuracy: 0.0441\n",
      "Epoch 53/100\n",
      "8/8 [==============================] - 0s 38ms/step - loss: 2.6794 - accuracy: 0.0888 - val_loss: 2.7377 - val_accuracy: 0.0441\n",
      "Epoch 54/100\n",
      "8/8 [==============================] - 0s 28ms/step - loss: 2.6794 - accuracy: 0.0888 - val_loss: 2.7377 - val_accuracy: 0.0441\n",
      "Epoch 55/100\n",
      "8/8 [==============================] - 0s 32ms/step - loss: 2.6794 - accuracy: 0.0888 - val_loss: 2.7377 - val_accuracy: 0.0441\n",
      "Epoch 56/100\n",
      "8/8 [==============================] - 0s 31ms/step - loss: 2.6794 - accuracy: 0.0888 - val_loss: 2.7377 - val_accuracy: 0.0441\n",
      "Epoch 57/100\n",
      "8/8 [==============================] - 0s 33ms/step - loss: 2.6794 - accuracy: 0.0888 - val_loss: 2.7377 - val_accuracy: 0.0441\n",
      "Epoch 58/100\n",
      "8/8 [==============================] - 0s 30ms/step - loss: 2.6794 - accuracy: 0.0888 - val_loss: 2.7377 - val_accuracy: 0.0441\n",
      "Epoch 59/100\n"
     ]
    },
    {
     "name": "stdout",
     "output_type": "stream",
     "text": [
      "8/8 [==============================] - 0s 33ms/step - loss: 2.6794 - accuracy: 0.0888 - val_loss: 2.7377 - val_accuracy: 0.0441\n",
      "Epoch 60/100\n",
      "8/8 [==============================] - 0s 28ms/step - loss: 2.6794 - accuracy: 0.0888 - val_loss: 2.7377 - val_accuracy: 0.0441\n",
      "Epoch 61/100\n",
      "8/8 [==============================] - 0s 24ms/step - loss: 2.6794 - accuracy: 0.0888 - val_loss: 2.7377 - val_accuracy: 0.0441\n",
      "Epoch 62/100\n",
      "8/8 [==============================] - 0s 27ms/step - loss: 2.6794 - accuracy: 0.0888 - val_loss: 2.7377 - val_accuracy: 0.0441\n",
      "Epoch 63/100\n",
      "8/8 [==============================] - 0s 28ms/step - loss: 2.6794 - accuracy: 0.0888 - val_loss: 2.7377 - val_accuracy: 0.0441\n",
      "Epoch 64/100\n",
      "8/8 [==============================] - 0s 28ms/step - loss: 2.6794 - accuracy: 0.0888 - val_loss: 2.7377 - val_accuracy: 0.0441\n",
      "Epoch 65/100\n",
      "8/8 [==============================] - 0s 32ms/step - loss: 2.6794 - accuracy: 0.0888 - val_loss: 2.7377 - val_accuracy: 0.0441\n",
      "Epoch 66/100\n",
      "8/8 [==============================] - 0s 49ms/step - loss: 2.6794 - accuracy: 0.0888 - val_loss: 2.7377 - val_accuracy: 0.0441\n",
      "Epoch 67/100\n",
      "8/8 [==============================] - 0s 43ms/step - loss: 2.6794 - accuracy: 0.0888 - val_loss: 2.7377 - val_accuracy: 0.0441\n",
      "Epoch 68/100\n",
      "8/8 [==============================] - 0s 38ms/step - loss: 2.6794 - accuracy: 0.0888 - val_loss: 2.7377 - val_accuracy: 0.0441\n",
      "Epoch 69/100\n",
      "8/8 [==============================] - 0s 36ms/step - loss: 2.6794 - accuracy: 0.0888 - val_loss: 2.7377 - val_accuracy: 0.0441\n",
      "Epoch 70/100\n",
      "8/8 [==============================] - 0s 29ms/step - loss: 2.6794 - accuracy: 0.0888 - val_loss: 2.7377 - val_accuracy: 0.0441\n",
      "Epoch 71/100\n",
      "8/8 [==============================] - 0s 29ms/step - loss: 2.6794 - accuracy: 0.0888 - val_loss: 2.7377 - val_accuracy: 0.0441\n",
      "Epoch 72/100\n",
      "8/8 [==============================] - 0s 28ms/step - loss: 2.6794 - accuracy: 0.0888 - val_loss: 2.7377 - val_accuracy: 0.0441\n",
      "Epoch 73/100\n",
      "8/8 [==============================] - 0s 33ms/step - loss: 2.6794 - accuracy: 0.0888 - val_loss: 2.7377 - val_accuracy: 0.0441\n",
      "Epoch 74/100\n",
      "8/8 [==============================] - 0s 28ms/step - loss: 2.6794 - accuracy: 0.0888 - val_loss: 2.7377 - val_accuracy: 0.0441\n",
      "Epoch 75/100\n",
      "8/8 [==============================] - 0s 34ms/step - loss: 2.6794 - accuracy: 0.0888 - val_loss: 2.7377 - val_accuracy: 0.0441\n",
      "Epoch 76/100\n",
      "8/8 [==============================] - 0s 32ms/step - loss: 2.6794 - accuracy: 0.0888 - val_loss: 2.7377 - val_accuracy: 0.0441\n",
      "Epoch 77/100\n",
      "8/8 [==============================] - 0s 26ms/step - loss: 2.6794 - accuracy: 0.0888 - val_loss: 2.7377 - val_accuracy: 0.0441\n",
      "Epoch 78/100\n",
      "8/8 [==============================] - 0s 26ms/step - loss: 2.6794 - accuracy: 0.0888 - val_loss: 2.7377 - val_accuracy: 0.0441\n",
      "Epoch 79/100\n",
      "8/8 [==============================] - 0s 31ms/step - loss: 2.6794 - accuracy: 0.0888 - val_loss: 2.7377 - val_accuracy: 0.0441\n",
      "Epoch 80/100\n",
      "8/8 [==============================] - 0s 28ms/step - loss: 2.6794 - accuracy: 0.0888 - val_loss: 2.7377 - val_accuracy: 0.0441\n",
      "Epoch 81/100\n",
      "8/8 [==============================] - 0s 29ms/step - loss: 2.6794 - accuracy: 0.0888 - val_loss: 2.7377 - val_accuracy: 0.0441\n",
      "Epoch 82/100\n",
      "8/8 [==============================] - 0s 29ms/step - loss: 2.6794 - accuracy: 0.0888 - val_loss: 2.7377 - val_accuracy: 0.0441\n",
      "Epoch 83/100\n",
      "8/8 [==============================] - 0s 30ms/step - loss: 2.6794 - accuracy: 0.0888 - val_loss: 2.7377 - val_accuracy: 0.0441\n",
      "Epoch 84/100\n",
      "8/8 [==============================] - 0s 26ms/step - loss: 2.6794 - accuracy: 0.0888 - val_loss: 2.7377 - val_accuracy: 0.0441\n",
      "Epoch 85/100\n",
      "8/8 [==============================] - 0s 29ms/step - loss: 2.6794 - accuracy: 0.0888 - val_loss: 2.7377 - val_accuracy: 0.0441\n",
      "Epoch 86/100\n",
      "8/8 [==============================] - 0s 28ms/step - loss: 2.6794 - accuracy: 0.0888 - val_loss: 2.7377 - val_accuracy: 0.0441\n",
      "Epoch 87/100\n",
      "8/8 [==============================] - 0s 26ms/step - loss: 2.6794 - accuracy: 0.0888 - val_loss: 2.7377 - val_accuracy: 0.0441\n",
      "Epoch 88/100\n",
      "8/8 [==============================] - 0s 30ms/step - loss: 2.6794 - accuracy: 0.0888 - val_loss: 2.7377 - val_accuracy: 0.0441\n",
      "Epoch 89/100\n",
      "8/8 [==============================] - 0s 26ms/step - loss: 2.6794 - accuracy: 0.0888 - val_loss: 2.7377 - val_accuracy: 0.0441\n",
      "Epoch 90/100\n",
      "8/8 [==============================] - 0s 27ms/step - loss: 2.6794 - accuracy: 0.0888 - val_loss: 2.7377 - val_accuracy: 0.0441\n",
      "Epoch 91/100\n",
      "8/8 [==============================] - 0s 29ms/step - loss: 2.6794 - accuracy: 0.0888 - val_loss: 2.7377 - val_accuracy: 0.0441\n",
      "Epoch 92/100\n",
      "8/8 [==============================] - 0s 28ms/step - loss: 2.6794 - accuracy: 0.0888 - val_loss: 2.7377 - val_accuracy: 0.0441\n",
      "Epoch 93/100\n",
      "8/8 [==============================] - 0s 27ms/step - loss: 2.6794 - accuracy: 0.0888 - val_loss: 2.7377 - val_accuracy: 0.0441\n",
      "Epoch 94/100\n",
      "8/8 [==============================] - 0s 27ms/step - loss: 2.6794 - accuracy: 0.0888 - val_loss: 2.7377 - val_accuracy: 0.0441\n",
      "Epoch 95/100\n",
      "8/8 [==============================] - 0s 32ms/step - loss: 2.6794 - accuracy: 0.0888 - val_loss: 2.7377 - val_accuracy: 0.0441\n",
      "Epoch 96/100\n",
      "8/8 [==============================] - 0s 31ms/step - loss: 2.6794 - accuracy: 0.0888 - val_loss: 2.7377 - val_accuracy: 0.0441\n",
      "Epoch 97/100\n",
      "8/8 [==============================] - 0s 29ms/step - loss: 2.6794 - accuracy: 0.0888 - val_loss: 2.7377 - val_accuracy: 0.0441\n",
      "Epoch 98/100\n",
      "8/8 [==============================] - 0s 28ms/step - loss: 2.6794 - accuracy: 0.0888 - val_loss: 2.7377 - val_accuracy: 0.0441\n",
      "Epoch 99/100\n",
      "8/8 [==============================] - 0s 27ms/step - loss: 2.6794 - accuracy: 0.0888 - val_loss: 2.7377 - val_accuracy: 0.0441\n",
      "Epoch 100/100\n",
      "8/8 [==============================] - 0s 30ms/step - loss: 2.6794 - accuracy: 0.0888 - val_loss: 2.7377 - val_accuracy: 0.0441\n"
     ]
    }
   ],
   "source": [
    "history = Model_1.fit(X_train, y_train,\n",
    "                   batch_size=75,\n",
    "                   epochs=100,\n",
    "                   validation_data=(X_test,y_test))"
   ]
  },
  {
   "cell_type": "code",
   "execution_count": 149,
   "id": "07cb0e73",
   "metadata": {
    "scrolled": true
   },
   "outputs": [
    {
     "name": "stdout",
     "output_type": "stream",
     "text": [
      "8/8 [==============================] - 0s 7ms/step - loss: 2.7377 - accuracy: 0.0441\n"
     ]
    },
    {
     "data": {
      "text/plain": [
       "[2.7377395629882812, 0.044052861630916595]"
      ]
     },
     "execution_count": 149,
     "metadata": {},
     "output_type": "execute_result"
    }
   ],
   "source": [
    "Model_1.evaluate(X_test,y_test)"
   ]
  },
  {
   "cell_type": "markdown",
   "id": "6741865b",
   "metadata": {},
   "source": [
    "The accuracy is low.\n"
   ]
  },
  {
   "cell_type": "markdown",
   "id": "0efe7311",
   "metadata": {},
   "source": [
    "Visualize the loss and accuracy"
   ]
  },
  {
   "cell_type": "code",
   "execution_count": 150,
   "id": "170ec164",
   "metadata": {
    "scrolled": false
   },
   "outputs": [
    {
     "data": {
      "text/plain": [
       "<function matplotlib.pyplot.show(close=None, block=None)>"
      ]
     },
     "execution_count": 150,
     "metadata": {},
     "output_type": "execute_result"
    },
    {
     "data": {
      "image/png": "[encoded data removed]",
      "text/plain": [
       "<Figure size 640x480 with 1 Axes>"
      ]
     },
     "metadata": {},
     "output_type": "display_data"
    }
   ],
   "source": [
    "plt.plot(history.history['loss'])\n",
    "plt.plot(history.history['val_loss'])\n",
    "plt.ylabel(\"Loss\")\n",
    "plt.xlabel('epochs')\n",
    "plt.legend(['Train', \"Val\"], loc='upper right')\n",
    "plt.title([\"Model_1 Loss\"])\n",
    "plt.show"
   ]
  },
  {
   "cell_type": "code",
   "execution_count": 151,
   "id": "3b2cce24",
   "metadata": {},
   "outputs": [
    {
     "data": {
      "text/plain": [
       "<function matplotlib.pyplot.show(close=None, block=None)>"
      ]
     },
     "execution_count": 151,
     "metadata": {},
     "output_type": "execute_result"
    },
    {
     "data": {
      "image/png": "[encoded data removed]",
      "text/plain": [
       "<Figure size 640x480 with 1 Axes>"
      ]
     },
     "metadata": {},
     "output_type": "display_data"
    }
   ],
   "source": [
    "plt.plot(history.history['accuracy'])\n",
    "plt.plot(history.history['val_accuracy'])\n",
    "plt.ylabel(\"Accuracy\")\n",
    "plt.xlabel('epochs')\n",
    "plt.legend(['Train', \"Val\"], loc='lower right')\n",
    "plt.title([\"Model_1 Accuracy\"])\n",
    "plt.show"
   ]
  },
  {
   "cell_type": "markdown",
   "id": "4898e28b",
   "metadata": {},
   "source": [
    "The distance between the test and training loss is too wide. Thus a poor model. Therefore another model is built."
   ]
  },
  {
   "cell_type": "code",
   "execution_count": 113,
   "id": "80a9c693",
   "metadata": {},
   "outputs": [
    {
     "name": "stdout",
     "output_type": "stream",
     "text": [
      "Epoch 1/100\n",
      "11/11 [==============================] - 9s 403ms/step - loss: 5.4241 - accuracy: 0.6522 - val_loss: 0.5224 - val_accuracy: 0.7445\n",
      "Epoch 2/100\n",
      "11/11 [==============================] - 3s 262ms/step - loss: 0.4960 - accuracy: 0.7656 - val_loss: 0.7307 - val_accuracy: 0.7753\n",
      "Epoch 3/100\n",
      "11/11 [==============================] - 3s 249ms/step - loss: 0.4282 - accuracy: 0.8299 - val_loss: 0.3628 - val_accuracy: 0.8590\n",
      "Epoch 4/100\n",
      "11/11 [==============================] - 3s 243ms/step - loss: 0.3349 - accuracy: 0.8658 - val_loss: 0.3459 - val_accuracy: 0.8370\n",
      "Epoch 5/100\n",
      "11/11 [==============================] - 3s 243ms/step - loss: 0.2568 - accuracy: 0.8979 - val_loss: 0.2831 - val_accuracy: 0.8722\n",
      "Epoch 6/100\n",
      "11/11 [==============================] - 3s 246ms/step - loss: 0.2251 - accuracy: 0.9149 - val_loss: 0.1810 - val_accuracy: 0.9427\n",
      "Epoch 7/100\n",
      "11/11 [==============================] - 3s 246ms/step - loss: 0.1725 - accuracy: 0.9376 - val_loss: 0.2915 - val_accuracy: 0.8678\n",
      "Epoch 8/100\n",
      "11/11 [==============================] - 3s 242ms/step - loss: 0.1381 - accuracy: 0.9395 - val_loss: 0.1527 - val_accuracy: 0.9383\n",
      "Epoch 9/100\n",
      "11/11 [==============================] - 3s 248ms/step - loss: 0.0645 - accuracy: 0.9754 - val_loss: 0.0375 - val_accuracy: 0.9912\n",
      "Epoch 10/100\n",
      "11/11 [==============================] - 3s 241ms/step - loss: 0.8341 - accuracy: 0.8998 - val_loss: 0.4138 - val_accuracy: 0.7489\n",
      "Epoch 11/100\n",
      "11/11 [==============================] - 3s 243ms/step - loss: 0.5517 - accuracy: 0.8450 - val_loss: 0.4103 - val_accuracy: 0.9559\n",
      "Epoch 12/100\n",
      "11/11 [==============================] - 3s 242ms/step - loss: 0.7768 - accuracy: 0.8904 - val_loss: 2.0952 - val_accuracy: 0.7445\n",
      "Epoch 13/100\n",
      "11/11 [==============================] - 3s 243ms/step - loss: 0.7796 - accuracy: 0.7467 - val_loss: 0.5123 - val_accuracy: 0.7445\n",
      "Epoch 14/100\n",
      "11/11 [==============================] - 3s 246ms/step - loss: 0.4559 - accuracy: 0.7524 - val_loss: 0.4276 - val_accuracy: 0.8414\n",
      "Epoch 15/100\n",
      "11/11 [==============================] - 3s 243ms/step - loss: 0.3009 - accuracy: 0.8828 - val_loss: 0.3258 - val_accuracy: 0.8899\n",
      "Epoch 16/100\n",
      "11/11 [==============================] - 3s 246ms/step - loss: 0.2065 - accuracy: 0.9225 - val_loss: 0.2483 - val_accuracy: 0.8811\n",
      "Epoch 17/100\n",
      "11/11 [==============================] - 3s 244ms/step - loss: 0.0805 - accuracy: 0.9792 - val_loss: 0.0449 - val_accuracy: 0.9780\n",
      "Epoch 18/100\n",
      "11/11 [==============================] - 3s 247ms/step - loss: 0.0102 - accuracy: 0.9962 - val_loss: 0.0311 - val_accuracy: 0.9780\n",
      "Epoch 19/100\n",
      "11/11 [==============================] - 3s 246ms/step - loss: 0.0069 - accuracy: 0.9943 - val_loss: 0.0542 - val_accuracy: 0.9824\n",
      "Epoch 20/100\n",
      "11/11 [==============================] - 3s 249ms/step - loss: 0.0034 - accuracy: 1.0000 - val_loss: 0.0359 - val_accuracy: 0.9912\n",
      "Epoch 21/100\n",
      "11/11 [==============================] - 3s 253ms/step - loss: 0.0013 - accuracy: 1.0000 - val_loss: 0.0746 - val_accuracy: 0.9780\n",
      "Epoch 22/100\n",
      "11/11 [==============================] - 3s 247ms/step - loss: 4.6361e-04 - accuracy: 1.0000 - val_loss: 0.0704 - val_accuracy: 0.9780\n",
      "Epoch 23/100\n",
      "11/11 [==============================] - 3s 244ms/step - loss: 1.6695e-04 - accuracy: 1.0000 - val_loss: 0.0477 - val_accuracy: 0.9912\n",
      "Epoch 24/100\n",
      "11/11 [==============================] - 3s 247ms/step - loss: 4.7455e-05 - accuracy: 1.0000 - val_loss: 0.0392 - val_accuracy: 0.9956\n",
      "Epoch 25/100\n",
      "11/11 [==============================] - 3s 245ms/step - loss: 5.3683e-05 - accuracy: 1.0000 - val_loss: 0.0401 - val_accuracy: 0.9956\n",
      "Epoch 26/100\n",
      "11/11 [==============================] - 3s 244ms/step - loss: 3.7265e-05 - accuracy: 1.0000 - val_loss: 0.0434 - val_accuracy: 0.9956\n",
      "Epoch 27/100\n",
      "11/11 [==============================] - 3s 251ms/step - loss: 2.4850e-05 - accuracy: 1.0000 - val_loss: 0.0496 - val_accuracy: 0.9912\n",
      "Epoch 28/100\n",
      "11/11 [==============================] - 3s 251ms/step - loss: 1.8355e-05 - accuracy: 1.0000 - val_loss: 0.0546 - val_accuracy: 0.9868\n",
      "Epoch 29/100\n",
      "11/11 [==============================] - 3s 244ms/step - loss: 1.4444e-05 - accuracy: 1.0000 - val_loss: 0.0557 - val_accuracy: 0.9868\n",
      "Epoch 30/100\n",
      "11/11 [==============================] - 3s 247ms/step - loss: 1.1520e-05 - accuracy: 1.0000 - val_loss: 0.0561 - val_accuracy: 0.9912\n",
      "Epoch 31/100\n",
      "11/11 [==============================] - 3s 244ms/step - loss: 9.0471e-06 - accuracy: 1.0000 - val_loss: 0.0554 - val_accuracy: 0.9912\n",
      "Epoch 32/100\n",
      "11/11 [==============================] - 3s 246ms/step - loss: 7.1568e-06 - accuracy: 1.0000 - val_loss: 0.0550 - val_accuracy: 0.9912\n",
      "Epoch 33/100\n",
      "11/11 [==============================] - 3s 246ms/step - loss: 5.9174e-06 - accuracy: 1.0000 - val_loss: 0.0539 - val_accuracy: 0.9912\n",
      "Epoch 34/100\n",
      "11/11 [==============================] - 3s 244ms/step - loss: 4.9938e-06 - accuracy: 1.0000 - val_loss: 0.0544 - val_accuracy: 0.9912\n",
      "Epoch 35/100\n",
      "11/11 [==============================] - 3s 252ms/step - loss: 4.4494e-06 - accuracy: 1.0000 - val_loss: 0.0549 - val_accuracy: 0.9912\n",
      "Epoch 36/100\n",
      "11/11 [==============================] - 3s 246ms/step - loss: 4.0261e-06 - accuracy: 1.0000 - val_loss: 0.0563 - val_accuracy: 0.9912\n",
      "Epoch 37/100\n",
      "11/11 [==============================] - 3s 247ms/step - loss: 3.6879e-06 - accuracy: 1.0000 - val_loss: 0.0568 - val_accuracy: 0.9912\n",
      "Epoch 38/100\n",
      "11/11 [==============================] - 3s 243ms/step - loss: 3.4325e-06 - accuracy: 1.0000 - val_loss: 0.0573 - val_accuracy: 0.9912\n",
      "Epoch 39/100\n",
      "11/11 [==============================] - 3s 246ms/step - loss: 3.2381e-06 - accuracy: 1.0000 - val_loss: 0.0578 - val_accuracy: 0.9912\n",
      "Epoch 40/100\n",
      "11/11 [==============================] - 3s 247ms/step - loss: 3.1029e-06 - accuracy: 1.0000 - val_loss: 0.0579 - val_accuracy: 0.9912\n",
      "Epoch 41/100\n",
      "11/11 [==============================] - 3s 246ms/step - loss: 2.9128e-06 - accuracy: 1.0000 - val_loss: 0.0586 - val_accuracy: 0.9912\n",
      "Epoch 42/100\n",
      "11/11 [==============================] - 3s 245ms/step - loss: 2.7966e-06 - accuracy: 1.0000 - val_loss: 0.0591 - val_accuracy: 0.9912\n",
      "Epoch 43/100\n",
      "11/11 [==============================] - 3s 248ms/step - loss: 2.7138e-06 - accuracy: 1.0000 - val_loss: 0.0603 - val_accuracy: 0.9912\n",
      "Epoch 44/100\n",
      "11/11 [==============================] - 3s 244ms/step - loss: 2.4883e-06 - accuracy: 1.0000 - val_loss: 0.0604 - val_accuracy: 0.9912\n",
      "Epoch 45/100\n",
      "11/11 [==============================] - 3s 247ms/step - loss: 2.3612e-06 - accuracy: 1.0000 - val_loss: 0.0605 - val_accuracy: 0.9912\n",
      "Epoch 46/100\n",
      "11/11 [==============================] - 3s 260ms/step - loss: 2.1773e-06 - accuracy: 1.0000 - val_loss: 0.0616 - val_accuracy: 0.9912\n",
      "Epoch 47/100\n",
      "11/11 [==============================] - 3s 270ms/step - loss: 2.0331e-06 - accuracy: 1.0000 - val_loss: 0.0627 - val_accuracy: 0.9912\n",
      "Epoch 48/100\n",
      "11/11 [==============================] - 3s 270ms/step - loss: 1.8334e-06 - accuracy: 1.0000 - val_loss: 0.0630 - val_accuracy: 0.9912\n",
      "Epoch 49/100\n",
      "11/11 [==============================] - 3s 260ms/step - loss: 1.6399e-06 - accuracy: 1.0000 - val_loss: 0.0641 - val_accuracy: 0.9912\n",
      "Epoch 50/100\n",
      "11/11 [==============================] - 3s 256ms/step - loss: 1.4654e-06 - accuracy: 1.0000 - val_loss: 0.0656 - val_accuracy: 0.9912\n",
      "Epoch 51/100\n",
      "11/11 [==============================] - 3s 245ms/step - loss: 1.2897e-06 - accuracy: 1.0000 - val_loss: 0.0668 - val_accuracy: 0.9912\n",
      "Epoch 52/100\n",
      "11/11 [==============================] - 3s 245ms/step - loss: 1.1680e-06 - accuracy: 1.0000 - val_loss: 0.0681 - val_accuracy: 0.9912\n",
      "Epoch 53/100\n",
      "11/11 [==============================] - 3s 244ms/step - loss: 1.0315e-06 - accuracy: 1.0000 - val_loss: 0.0685 - val_accuracy: 0.9912\n",
      "Epoch 54/100\n",
      "11/11 [==============================] - 3s 249ms/step - loss: 9.0877e-07 - accuracy: 1.0000 - val_loss: 0.0697 - val_accuracy: 0.9912\n",
      "Epoch 55/100\n",
      "11/11 [==============================] - 3s 248ms/step - loss: 8.1887e-07 - accuracy: 1.0000 - val_loss: 0.0712 - val_accuracy: 0.9912\n",
      "Epoch 56/100\n",
      "11/11 [==============================] - 3s 266ms/step - loss: 7.2621e-07 - accuracy: 1.0000 - val_loss: 0.0718 - val_accuracy: 0.9912\n"
     ]
    },
    {
     "name": "stdout",
     "output_type": "stream",
     "text": [
      "Epoch 57/100\n",
      "11/11 [==============================] - 3s 246ms/step - loss: 6.6361e-07 - accuracy: 1.0000 - val_loss: 0.0725 - val_accuracy: 0.9912\n",
      "Epoch 58/100\n",
      "11/11 [==============================] - 3s 242ms/step - loss: 5.9667e-07 - accuracy: 1.0000 - val_loss: 0.0734 - val_accuracy: 0.9912\n",
      "Epoch 59/100\n",
      "11/11 [==============================] - 3s 242ms/step - loss: 5.4262e-07 - accuracy: 1.0000 - val_loss: 0.0742 - val_accuracy: 0.9912\n",
      "Epoch 60/100\n",
      "11/11 [==============================] - 3s 243ms/step - loss: 5.0232e-07 - accuracy: 1.0000 - val_loss: 0.0748 - val_accuracy: 0.9912\n",
      "Epoch 61/100\n",
      "11/11 [==============================] - 3s 242ms/step - loss: 4.6022e-07 - accuracy: 1.0000 - val_loss: 0.0756 - val_accuracy: 0.9912\n",
      "Epoch 62/100\n",
      "11/11 [==============================] - 3s 242ms/step - loss: 4.2157e-07 - accuracy: 1.0000 - val_loss: 0.0767 - val_accuracy: 0.9912\n",
      "Epoch 63/100\n",
      "11/11 [==============================] - 3s 242ms/step - loss: 3.9017e-07 - accuracy: 1.0000 - val_loss: 0.0771 - val_accuracy: 0.9912\n",
      "Epoch 64/100\n",
      "11/11 [==============================] - 3s 240ms/step - loss: 3.6296e-07 - accuracy: 1.0000 - val_loss: 0.0778 - val_accuracy: 0.9912\n",
      "Epoch 65/100\n",
      "11/11 [==============================] - 3s 251ms/step - loss: 3.3596e-07 - accuracy: 1.0000 - val_loss: 0.0782 - val_accuracy: 0.9912\n",
      "Epoch 66/100\n",
      "11/11 [==============================] - 3s 290ms/step - loss: 3.1621e-07 - accuracy: 1.0000 - val_loss: 0.0788 - val_accuracy: 0.9912\n",
      "Epoch 67/100\n",
      "11/11 [==============================] - 3s 273ms/step - loss: 2.9710e-07 - accuracy: 1.0000 - val_loss: 0.0794 - val_accuracy: 0.9912\n",
      "Epoch 68/100\n",
      "11/11 [==============================] - 3s 260ms/step - loss: 2.7707e-07 - accuracy: 1.0000 - val_loss: 0.0798 - val_accuracy: 0.9912\n",
      "Epoch 69/100\n",
      "11/11 [==============================] - 3s 278ms/step - loss: 2.6217e-07 - accuracy: 1.0000 - val_loss: 0.0803 - val_accuracy: 0.9912\n",
      "Epoch 70/100\n",
      "11/11 [==============================] - 3s 258ms/step - loss: 2.4727e-07 - accuracy: 1.0000 - val_loss: 0.0810 - val_accuracy: 0.9912\n",
      "Epoch 71/100\n",
      "11/11 [==============================] - 3s 272ms/step - loss: 2.3452e-07 - accuracy: 1.0000 - val_loss: 0.0819 - val_accuracy: 0.9912\n",
      "Epoch 72/100\n",
      "11/11 [==============================] - 3s 276ms/step - loss: 2.2176e-07 - accuracy: 1.0000 - val_loss: 0.0821 - val_accuracy: 0.9912\n",
      "Epoch 73/100\n",
      "11/11 [==============================] - 3s 278ms/step - loss: 2.1123e-07 - accuracy: 1.0000 - val_loss: 0.0828 - val_accuracy: 0.9912\n",
      "Epoch 74/100\n",
      "11/11 [==============================] - 3s 261ms/step - loss: 2.0160e-07 - accuracy: 1.0000 - val_loss: 0.0829 - val_accuracy: 0.9912\n",
      "Epoch 75/100\n",
      "11/11 [==============================] - 3s 280ms/step - loss: 1.9072e-07 - accuracy: 1.0000 - val_loss: 0.0835 - val_accuracy: 0.9912\n",
      "Epoch 76/100\n",
      "11/11 [==============================] - 3s 286ms/step - loss: 1.8155e-07 - accuracy: 1.0000 - val_loss: 0.0835 - val_accuracy: 0.9912\n",
      "Epoch 77/100\n",
      "11/11 [==============================] - 3s 264ms/step - loss: 1.7320e-07 - accuracy: 1.0000 - val_loss: 0.0838 - val_accuracy: 0.9912\n",
      "Epoch 78/100\n",
      "11/11 [==============================] - 3s 273ms/step - loss: 1.6507e-07 - accuracy: 1.0000 - val_loss: 0.0841 - val_accuracy: 0.9912\n",
      "Epoch 79/100\n",
      "11/11 [==============================] - 3s 258ms/step - loss: 1.5800e-07 - accuracy: 1.0000 - val_loss: 0.0847 - val_accuracy: 0.9912\n",
      "Epoch 80/100\n",
      "11/11 [==============================] - 3s 259ms/step - loss: 1.5209e-07 - accuracy: 1.0000 - val_loss: 0.0851 - val_accuracy: 0.9912\n",
      "Epoch 81/100\n",
      "11/11 [==============================] - 3s 257ms/step - loss: 1.4572e-07 - accuracy: 1.0000 - val_loss: 0.0855 - val_accuracy: 0.9912\n",
      "Epoch 82/100\n",
      "11/11 [==============================] - 3s 259ms/step - loss: 1.3913e-07 - accuracy: 1.0000 - val_loss: 0.0855 - val_accuracy: 0.9912\n",
      "Epoch 83/100\n",
      "11/11 [==============================] - 3s 258ms/step - loss: 1.3386e-07 - accuracy: 1.0000 - val_loss: 0.0857 - val_accuracy: 0.9912\n",
      "Epoch 84/100\n",
      "11/11 [==============================] - 3s 261ms/step - loss: 1.3043e-07 - accuracy: 1.0000 - val_loss: 0.0866 - val_accuracy: 0.9912\n",
      "Epoch 85/100\n",
      "11/11 [==============================] - 3s 264ms/step - loss: 1.2437e-07 - accuracy: 1.0000 - val_loss: 0.0865 - val_accuracy: 0.9912\n",
      "Epoch 86/100\n",
      "11/11 [==============================] - 3s 279ms/step - loss: 1.1931e-07 - accuracy: 1.0000 - val_loss: 0.0872 - val_accuracy: 0.9912\n",
      "Epoch 87/100\n",
      "11/11 [==============================] - 3s 276ms/step - loss: 1.1447e-07 - accuracy: 1.0000 - val_loss: 0.0876 - val_accuracy: 0.9912\n",
      "Epoch 88/100\n",
      "11/11 [==============================] - 3s 278ms/step - loss: 1.1079e-07 - accuracy: 1.0000 - val_loss: 0.0877 - val_accuracy: 0.9912\n",
      "Epoch 89/100\n",
      "11/11 [==============================] - 3s 253ms/step - loss: 1.0680e-07 - accuracy: 1.0000 - val_loss: 0.0880 - val_accuracy: 0.9912\n",
      "Epoch 90/100\n",
      "11/11 [==============================] - 3s 268ms/step - loss: 1.0308e-07 - accuracy: 1.0000 - val_loss: 0.0883 - val_accuracy: 0.9912\n",
      "Epoch 91/100\n",
      "11/11 [==============================] - 3s 278ms/step - loss: 9.9251e-08 - accuracy: 1.0000 - val_loss: 0.0882 - val_accuracy: 0.9912\n",
      "Epoch 92/100\n",
      "11/11 [==============================] - 3s 263ms/step - loss: 9.6195e-08 - accuracy: 1.0000 - val_loss: 0.0882 - val_accuracy: 0.9912\n",
      "Epoch 93/100\n",
      "11/11 [==============================] - 3s 258ms/step - loss: 9.3357e-08 - accuracy: 1.0000 - val_loss: 0.0887 - val_accuracy: 0.9912\n",
      "Epoch 94/100\n",
      "11/11 [==============================] - 3s 263ms/step - loss: 9.0147e-08 - accuracy: 1.0000 - val_loss: 0.0887 - val_accuracy: 0.9912\n",
      "Epoch 95/100\n",
      "11/11 [==============================] - 3s 258ms/step - loss: 8.7390e-08 - accuracy: 1.0000 - val_loss: 0.0888 - val_accuracy: 0.9912\n",
      "Epoch 96/100\n",
      "11/11 [==============================] - 3s 253ms/step - loss: 8.4604e-08 - accuracy: 1.0000 - val_loss: 0.0892 - val_accuracy: 0.9912\n",
      "Epoch 97/100\n",
      "11/11 [==============================] - 3s 254ms/step - loss: 8.2324e-08 - accuracy: 1.0000 - val_loss: 0.0892 - val_accuracy: 0.9912\n",
      "Epoch 98/100\n",
      "11/11 [==============================] - 3s 264ms/step - loss: 8.0096e-08 - accuracy: 1.0000 - val_loss: 0.0897 - val_accuracy: 0.9912\n",
      "Epoch 99/100\n",
      "11/11 [==============================] - 3s 266ms/step - loss: 7.7572e-08 - accuracy: 1.0000 - val_loss: 0.0898 - val_accuracy: 0.9912\n",
      "Epoch 100/100\n",
      "11/11 [==============================] - 3s 288ms/step - loss: 7.5242e-08 - accuracy: 1.0000 - val_loss: 0.0900 - val_accuracy: 0.9912\n"
     ]
    }
   ],
   "source": [
    "Model_2 = Sequential([\n",
    "    Dense(2000, activation='relu', input_shape = (754,)),\n",
    "    Dense(2000, activation='relu'),\n",
    "    Dense(2000, activation='relu'),\n",
    "    Dense(2000, activation='relu'),\n",
    "    Dense(1,activation='sigmoid')\n",
    "])\n",
    "\n",
    "\n",
    "Model_2.compile(optimizer=Adam(learning_rate=0.003),\n",
    "               loss=\"binary_crossentropy\",\n",
    "               metrics=['accuracy'])\n",
    "\n",
    "history_2 = Model_2.fit(X_train, y_train,\n",
    "                   batch_size=50,\n",
    "                   epochs=100,\n",
    "                   validation_data=(X_test,y_test))"
   ]
  },
  {
   "cell_type": "code",
   "execution_count": 114,
   "id": "d923af57",
   "metadata": {
    "scrolled": true
   },
   "outputs": [
    {
     "name": "stdout",
     "output_type": "stream",
     "text": [
      "8/8 [==============================] - 1s 66ms/step - loss: 0.0900 - accuracy: 0.9912\n"
     ]
    },
    {
     "data": {
      "text/plain": [
       "[0.09001632779836655, 0.9911894202232361]"
      ]
     },
     "execution_count": 114,
     "metadata": {},
     "output_type": "execute_result"
    }
   ],
   "source": [
    "Model_2.evaluate(X_test,y_test)"
   ]
  },
  {
   "cell_type": "markdown",
   "id": "8e40957b",
   "metadata": {},
   "source": [
    "This is an improved model with higher accuracy of 99.12%"
   ]
  },
  {
   "cell_type": "code",
   "execution_count": 115,
   "id": "5bcd8116",
   "metadata": {},
   "outputs": [
    {
     "data": {
      "text/plain": [
       "<function matplotlib.pyplot.show(close=None, block=None)>"
      ]
     },
     "execution_count": 115,
     "metadata": {},
     "output_type": "execute_result"
    },
    {
     "data": {
      "image/png": "[encoded data removed]",
      "text/plain": [
       "<Figure size 640x480 with 1 Axes>"
      ]
     },
     "metadata": {},
     "output_type": "display_data"
    }
   ],
   "source": [
    "plt.plot(history_2.history['loss'])\n",
    "plt.plot(history_2.history['val_loss'])\n",
    "plt.ylabel(\"Loss\")\n",
    "plt.xlabel('epochs')\n",
    "plt.legend(['Train', \"Val\"], loc='upper right')\n",
    "plt.title([\"Model_2 Loss\"])\n",
    "plt.show"
   ]
  },
  {
   "cell_type": "code",
   "execution_count": 116,
   "id": "ddede5fa",
   "metadata": {},
   "outputs": [
    {
     "data": {
      "text/plain": [
       "<function matplotlib.pyplot.show(close=None, block=None)>"
      ]
     },
     "execution_count": 116,
     "metadata": {},
     "output_type": "execute_result"
    },
    {
     "data": {
      "image/png": "[encoded data removed]",
      "text/plain": [
       "<Figure size 640x480 with 1 Axes>"
      ]
     },
     "metadata": {},
     "output_type": "display_data"
    }
   ],
   "source": [
    "plt.plot(history_2.history['accuracy'])\n",
    "plt.plot(history_2.history['val_accuracy'])\n",
    "plt.ylabel(\"Accuracy\")\n",
    "plt.xlabel('epochs')\n",
    "plt.legend(['Train', \"Val\"], loc='lower right')\n",
    "plt.title([\"Model_2 Accuracy\"])\n",
    "plt.show"
   ]
  },
  {
   "cell_type": "markdown",
   "id": "ff5c3190",
   "metadata": {},
   "source": [
    "It can be seen that increasing the number of neurons in each layer and using the \"Adam' optimizer geatly improved the accuracy of the model.\n",
    "\n",
    "However, it would be interesting to see what will happen if the number of neurons is increased with the addition of dropout and L2(Ridge) regularization to the model "
   ]
  },
  {
   "cell_type": "code",
   "execution_count": 121,
   "id": "d3404d0a",
   "metadata": {},
   "outputs": [],
   "source": [
    "from tensorflow.keras import regularizers"
   ]
  },
  {
   "cell_type": "code",
   "execution_count": 137,
   "id": "510a88ca",
   "metadata": {},
   "outputs": [
    {
     "name": "stdout",
     "output_type": "stream",
     "text": [
      "Epoch 1/100\n",
      "11/11 [==============================] - 13s 706ms/step - loss: 49.1749 - accuracy: 0.6333 - val_loss: 19.1204 - val_accuracy: 0.7445\n",
      "Epoch 2/100\n",
      "11/11 [==============================] - 7s 650ms/step - loss: 17.7455 - accuracy: 0.7467 - val_loss: 13.8311 - val_accuracy: 0.7445\n",
      "Epoch 3/100\n",
      "11/11 [==============================] - 7s 639ms/step - loss: 10.4112 - accuracy: 0.7467 - val_loss: 7.4046 - val_accuracy: 0.7445\n",
      "Epoch 4/100\n",
      "11/11 [==============================] - 7s 630ms/step - loss: 6.0608 - accuracy: 0.7467 - val_loss: 4.5862 - val_accuracy: 0.7445\n",
      "Epoch 5/100\n",
      "11/11 [==============================] - 7s 637ms/step - loss: 3.6797 - accuracy: 0.7467 - val_loss: 2.8209 - val_accuracy: 0.7445\n",
      "Epoch 6/100\n",
      "11/11 [==============================] - 7s 634ms/step - loss: 2.4629 - accuracy: 0.7467 - val_loss: 2.0003 - val_accuracy: 0.7445\n",
      "Epoch 7/100\n",
      "11/11 [==============================] - 7s 613ms/step - loss: 1.7030 - accuracy: 0.7467 - val_loss: 1.4378 - val_accuracy: 0.7445\n",
      "Epoch 8/100\n",
      "11/11 [==============================] - 7s 622ms/step - loss: 1.2650 - accuracy: 0.7864 - val_loss: 1.1935 - val_accuracy: 0.7445\n",
      "Epoch 9/100\n",
      "11/11 [==============================] - 7s 615ms/step - loss: 0.9609 - accuracy: 0.8941 - val_loss: 0.8050 - val_accuracy: 0.9559\n",
      "Epoch 10/100\n",
      "11/11 [==============================] - 7s 648ms/step - loss: 0.8304 - accuracy: 0.8809 - val_loss: 1.0075 - val_accuracy: 0.6960\n",
      "Epoch 11/100\n",
      "11/11 [==============================] - 7s 611ms/step - loss: 0.8157 - accuracy: 0.8715 - val_loss: 0.7804 - val_accuracy: 0.9251\n",
      "Epoch 12/100\n",
      "11/11 [==============================] - 7s 635ms/step - loss: 0.6506 - accuracy: 0.9244 - val_loss: 0.5328 - val_accuracy: 0.9427\n",
      "Epoch 13/100\n",
      "11/11 [==============================] - 7s 598ms/step - loss: 0.4620 - accuracy: 0.9716 - val_loss: 0.3678 - val_accuracy: 0.9780\n",
      "Epoch 14/100\n",
      "11/11 [==============================] - 7s 605ms/step - loss: 0.5773 - accuracy: 0.9093 - val_loss: 0.4600 - val_accuracy: 0.9912\n",
      "Epoch 15/100\n",
      "11/11 [==============================] - 6s 577ms/step - loss: 0.4815 - accuracy: 0.9716 - val_loss: 0.4216 - val_accuracy: 0.9824\n",
      "Epoch 16/100\n",
      "11/11 [==============================] - 6s 569ms/step - loss: 0.4730 - accuracy: 0.9452 - val_loss: 0.9878 - val_accuracy: 0.7753\n",
      "Epoch 17/100\n",
      "11/11 [==============================] - 7s 597ms/step - loss: 0.4765 - accuracy: 0.9509 - val_loss: 0.4496 - val_accuracy: 0.9295\n",
      "Epoch 18/100\n",
      "11/11 [==============================] - 7s 611ms/step - loss: 0.3621 - accuracy: 0.9868 - val_loss: 0.3078 - val_accuracy: 0.9912\n",
      "Epoch 19/100\n",
      "11/11 [==============================] - 7s 607ms/step - loss: 0.2749 - accuracy: 0.9943 - val_loss: 0.2483 - val_accuracy: 0.9956\n",
      "Epoch 20/100\n",
      "11/11 [==============================] - 7s 609ms/step - loss: 0.2414 - accuracy: 0.9981 - val_loss: 0.2257 - val_accuracy: 0.9956\n",
      "Epoch 21/100\n",
      "11/11 [==============================] - 7s 638ms/step - loss: 0.2018 - accuracy: 1.0000 - val_loss: 0.1769 - val_accuracy: 1.0000\n",
      "Epoch 22/100\n",
      "11/11 [==============================] - 7s 608ms/step - loss: 0.1710 - accuracy: 1.0000 - val_loss: 0.1579 - val_accuracy: 1.0000\n",
      "Epoch 23/100\n",
      "11/11 [==============================] - 7s 621ms/step - loss: 0.1601 - accuracy: 0.9981 - val_loss: 0.1455 - val_accuracy: 1.0000\n",
      "Epoch 24/100\n",
      "11/11 [==============================] - 7s 625ms/step - loss: 0.1448 - accuracy: 1.0000 - val_loss: 0.1337 - val_accuracy: 1.0000\n",
      "Epoch 25/100\n",
      "11/11 [==============================] - 7s 598ms/step - loss: 0.1345 - accuracy: 0.9981 - val_loss: 0.1292 - val_accuracy: 1.0000\n",
      "Epoch 26/100\n",
      "11/11 [==============================] - 7s 597ms/step - loss: 0.1346 - accuracy: 0.9981 - val_loss: 0.1266 - val_accuracy: 1.0000\n",
      "Epoch 27/100\n",
      "11/11 [==============================] - 6s 589ms/step - loss: 0.1293 - accuracy: 1.0000 - val_loss: 0.1379 - val_accuracy: 0.9956\n",
      "Epoch 28/100\n",
      "11/11 [==============================] - 7s 607ms/step - loss: 0.1229 - accuracy: 1.0000 - val_loss: 0.1127 - val_accuracy: 1.0000\n",
      "Epoch 29/100\n",
      "11/11 [==============================] - 7s 621ms/step - loss: 0.1447 - accuracy: 0.9924 - val_loss: 0.1607 - val_accuracy: 0.9868\n",
      "Epoch 30/100\n",
      "11/11 [==============================] - 7s 625ms/step - loss: 0.1462 - accuracy: 0.9943 - val_loss: 0.1446 - val_accuracy: 0.9956\n",
      "Epoch 31/100\n",
      "11/11 [==============================] - 7s 591ms/step - loss: 0.8659 - accuracy: 0.7146 - val_loss: 0.5323 - val_accuracy: 0.9075\n",
      "Epoch 32/100\n",
      "11/11 [==============================] - 7s 594ms/step - loss: 0.6407 - accuracy: 0.8393 - val_loss: 0.7354 - val_accuracy: 0.7930\n",
      "Epoch 33/100\n",
      "11/11 [==============================] - 6s 581ms/step - loss: 0.5860 - accuracy: 0.8922 - val_loss: 0.5597 - val_accuracy: 0.8811\n",
      "Epoch 34/100\n",
      "11/11 [==============================] - 6s 578ms/step - loss: 0.4695 - accuracy: 0.9225 - val_loss: 0.3921 - val_accuracy: 0.9251\n",
      "Epoch 35/100\n",
      "11/11 [==============================] - 6s 581ms/step - loss: 0.3748 - accuracy: 0.9338 - val_loss: 0.2673 - val_accuracy: 0.9868\n",
      "Epoch 36/100\n",
      "11/11 [==============================] - 7s 608ms/step - loss: 0.2650 - accuracy: 0.9773 - val_loss: 0.2605 - val_accuracy: 0.9648\n",
      "Epoch 37/100\n",
      "11/11 [==============================] - 6s 578ms/step - loss: 0.2205 - accuracy: 0.9905 - val_loss: 0.1909 - val_accuracy: 1.0000\n",
      "Epoch 38/100\n",
      "11/11 [==============================] - 6s 585ms/step - loss: 0.1909 - accuracy: 1.0000 - val_loss: 0.1728 - val_accuracy: 1.0000\n",
      "Epoch 39/100\n",
      "11/11 [==============================] - 6s 591ms/step - loss: 0.1721 - accuracy: 1.0000 - val_loss: 0.1586 - val_accuracy: 1.0000\n",
      "Epoch 40/100\n",
      "11/11 [==============================] - 6s 571ms/step - loss: 0.1614 - accuracy: 1.0000 - val_loss: 0.1478 - val_accuracy: 1.0000\n",
      "Epoch 41/100\n",
      "11/11 [==============================] - 6s 563ms/step - loss: 0.1478 - accuracy: 1.0000 - val_loss: 0.1378 - val_accuracy: 1.0000\n",
      "Epoch 42/100\n",
      "11/11 [==============================] - 6s 576ms/step - loss: 0.1389 - accuracy: 1.0000 - val_loss: 0.1387 - val_accuracy: 1.0000\n",
      "Epoch 43/100\n",
      "11/11 [==============================] - 6s 557ms/step - loss: 0.1389 - accuracy: 0.9962 - val_loss: 0.1401 - val_accuracy: 0.9956\n",
      "Epoch 44/100\n",
      "11/11 [==============================] - 6s 562ms/step - loss: 0.1345 - accuracy: 1.0000 - val_loss: 0.1254 - val_accuracy: 1.0000\n",
      "Epoch 45/100\n",
      "11/11 [==============================] - 6s 553ms/step - loss: 0.1294 - accuracy: 1.0000 - val_loss: 0.1198 - val_accuracy: 1.0000\n",
      "Epoch 46/100\n",
      "11/11 [==============================] - 6s 558ms/step - loss: 0.1255 - accuracy: 0.9981 - val_loss: 0.1150 - val_accuracy: 1.0000\n",
      "Epoch 47/100\n",
      "11/11 [==============================] - 6s 585ms/step - loss: 0.1227 - accuracy: 0.9962 - val_loss: 0.1264 - val_accuracy: 1.0000\n",
      "Epoch 48/100\n",
      "11/11 [==============================] - 6s 555ms/step - loss: 0.1213 - accuracy: 1.0000 - val_loss: 0.1113 - val_accuracy: 1.0000\n",
      "Epoch 49/100\n",
      "11/11 [==============================] - 6s 558ms/step - loss: 0.1303 - accuracy: 0.9943 - val_loss: 0.1383 - val_accuracy: 0.9956\n",
      "Epoch 50/100\n",
      "11/11 [==============================] - 6s 561ms/step - loss: 0.3231 - accuracy: 0.9263 - val_loss: 0.1539 - val_accuracy: 0.9956\n",
      "Epoch 51/100\n",
      "11/11 [==============================] - 6s 560ms/step - loss: 0.5724 - accuracy: 0.8110 - val_loss: 0.5277 - val_accuracy: 0.7841\n",
      "Epoch 52/100\n",
      "11/11 [==============================] - 6s 558ms/step - loss: 0.4186 - accuracy: 0.8904 - val_loss: 0.2990 - val_accuracy: 0.9427\n",
      "Epoch 53/100\n",
      "11/11 [==============================] - 6s 554ms/step - loss: 0.2979 - accuracy: 0.9471 - val_loss: 0.2199 - val_accuracy: 0.9868\n",
      "Epoch 54/100\n",
      "11/11 [==============================] - 6s 562ms/step - loss: 0.3224 - accuracy: 0.9414 - val_loss: 0.1927 - val_accuracy: 0.9956\n",
      "Epoch 55/100\n",
      "11/11 [==============================] - 6s 554ms/step - loss: 0.2483 - accuracy: 0.9716 - val_loss: 0.2130 - val_accuracy: 0.9868\n",
      "Epoch 56/100\n",
      "11/11 [==============================] - 6s 576ms/step - loss: 0.2286 - accuracy: 0.9773 - val_loss: 0.1888 - val_accuracy: 0.9956\n",
      "Epoch 57/100\n",
      "11/11 [==============================] - 6s 578ms/step - loss: 0.2211 - accuracy: 0.9830 - val_loss: 0.1943 - val_accuracy: 0.9912\n"
     ]
    },
    {
     "name": "stdout",
     "output_type": "stream",
     "text": [
      "Epoch 58/100\n",
      "11/11 [==============================] - 6s 559ms/step - loss: 0.1890 - accuracy: 0.9943 - val_loss: 0.1782 - val_accuracy: 0.9956\n",
      "Epoch 59/100\n",
      "11/11 [==============================] - 6s 557ms/step - loss: 0.1856 - accuracy: 0.9943 - val_loss: 0.1613 - val_accuracy: 1.0000\n",
      "Epoch 60/100\n",
      "11/11 [==============================] - 6s 554ms/step - loss: 0.1747 - accuracy: 0.9962 - val_loss: 0.1655 - val_accuracy: 0.9956\n",
      "Epoch 61/100\n",
      "11/11 [==============================] - 6s 550ms/step - loss: 0.1833 - accuracy: 0.9924 - val_loss: 0.1531 - val_accuracy: 1.0000\n",
      "Epoch 62/100\n",
      "11/11 [==============================] - 6s 554ms/step - loss: 0.1709 - accuracy: 0.9943 - val_loss: 0.1618 - val_accuracy: 0.9912\n",
      "Epoch 63/100\n",
      "11/11 [==============================] - 6s 559ms/step - loss: 0.1604 - accuracy: 0.9962 - val_loss: 0.1428 - val_accuracy: 1.0000\n",
      "Epoch 64/100\n",
      "11/11 [==============================] - 6s 554ms/step - loss: 0.1572 - accuracy: 0.9943 - val_loss: 0.1490 - val_accuracy: 0.9956\n",
      "Epoch 65/100\n",
      "11/11 [==============================] - 6s 557ms/step - loss: 0.1590 - accuracy: 0.9943 - val_loss: 0.1358 - val_accuracy: 1.0000\n",
      "Epoch 66/100\n",
      "11/11 [==============================] - 6s 563ms/step - loss: 0.1634 - accuracy: 0.9887 - val_loss: 0.1351 - val_accuracy: 1.0000\n",
      "Epoch 67/100\n",
      "11/11 [==============================] - 6s 553ms/step - loss: 0.1583 - accuracy: 0.9924 - val_loss: 0.1418 - val_accuracy: 1.0000\n",
      "Epoch 68/100\n",
      "11/11 [==============================] - 6s 565ms/step - loss: 0.1611 - accuracy: 0.9905 - val_loss: 0.1910 - val_accuracy: 0.9824\n",
      "Epoch 69/100\n",
      "11/11 [==============================] - 6s 554ms/step - loss: 0.1555 - accuracy: 0.9962 - val_loss: 0.1315 - val_accuracy: 1.0000\n",
      "Epoch 70/100\n",
      "11/11 [==============================] - 6s 559ms/step - loss: 0.1783 - accuracy: 0.9887 - val_loss: 0.1312 - val_accuracy: 1.0000\n",
      "Epoch 71/100\n",
      "11/11 [==============================] - 6s 564ms/step - loss: 0.3391 - accuracy: 0.9036 - val_loss: 0.2371 - val_accuracy: 0.9515\n",
      "Epoch 72/100\n",
      "11/11 [==============================] - 6s 553ms/step - loss: 0.2917 - accuracy: 0.9433 - val_loss: 0.2507 - val_accuracy: 0.9604\n",
      "Epoch 73/100\n",
      "11/11 [==============================] - 6s 563ms/step - loss: 0.3019 - accuracy: 0.9301 - val_loss: 0.3433 - val_accuracy: 0.8987\n",
      "Epoch 74/100\n",
      "11/11 [==============================] - 6s 562ms/step - loss: 0.3317 - accuracy: 0.9319 - val_loss: 0.2225 - val_accuracy: 0.9824\n",
      "Epoch 75/100\n",
      "11/11 [==============================] - 6s 562ms/step - loss: 0.3166 - accuracy: 0.9452 - val_loss: 0.2293 - val_accuracy: 0.9736\n",
      "Epoch 76/100\n",
      "11/11 [==============================] - 6s 565ms/step - loss: 0.2126 - accuracy: 0.9754 - val_loss: 0.1583 - val_accuracy: 1.0000\n",
      "Epoch 77/100\n",
      "11/11 [==============================] - 6s 558ms/step - loss: 0.2277 - accuracy: 0.9811 - val_loss: 0.1712 - val_accuracy: 0.9956\n",
      "Epoch 78/100\n",
      "11/11 [==============================] - 6s 559ms/step - loss: 0.1904 - accuracy: 0.9924 - val_loss: 0.1624 - val_accuracy: 0.9956\n",
      "Epoch 79/100\n",
      "11/11 [==============================] - 6s 555ms/step - loss: 0.1876 - accuracy: 0.9868 - val_loss: 0.1466 - val_accuracy: 1.0000\n",
      "Epoch 80/100\n",
      "11/11 [==============================] - 6s 552ms/step - loss: 0.1776 - accuracy: 0.9943 - val_loss: 0.1437 - val_accuracy: 1.0000\n",
      "Epoch 81/100\n",
      "11/11 [==============================] - 6s 568ms/step - loss: 0.1677 - accuracy: 0.9924 - val_loss: 0.1471 - val_accuracy: 0.9956\n",
      "Epoch 82/100\n",
      "11/11 [==============================] - 6s 560ms/step - loss: 0.1682 - accuracy: 0.9887 - val_loss: 0.1473 - val_accuracy: 0.9956\n",
      "Epoch 83/100\n",
      "11/11 [==============================] - 6s 554ms/step - loss: 0.1512 - accuracy: 0.9943 - val_loss: 0.1501 - val_accuracy: 0.9956\n",
      "Epoch 84/100\n",
      "11/11 [==============================] - 6s 560ms/step - loss: 0.1780 - accuracy: 0.9849 - val_loss: 0.1320 - val_accuracy: 1.0000\n",
      "Epoch 85/100\n",
      "11/11 [==============================] - 6s 550ms/step - loss: 0.1553 - accuracy: 0.9943 - val_loss: 0.1369 - val_accuracy: 1.0000\n",
      "Epoch 86/100\n",
      "11/11 [==============================] - 7s 658ms/step - loss: 0.1612 - accuracy: 0.9905 - val_loss: 0.1631 - val_accuracy: 0.9912\n",
      "Epoch 87/100\n",
      "11/11 [==============================] - 7s 629ms/step - loss: 0.1481 - accuracy: 0.9924 - val_loss: 0.1436 - val_accuracy: 0.9956\n",
      "Epoch 88/100\n",
      "11/11 [==============================] - 6s 584ms/step - loss: 0.1830 - accuracy: 0.9830 - val_loss: 0.1276 - val_accuracy: 1.0000\n",
      "Epoch 89/100\n",
      "11/11 [==============================] - 6s 557ms/step - loss: 0.1686 - accuracy: 0.9773 - val_loss: 0.1296 - val_accuracy: 1.0000\n",
      "Epoch 90/100\n",
      "11/11 [==============================] - 6s 560ms/step - loss: 0.1776 - accuracy: 0.9830 - val_loss: 0.1254 - val_accuracy: 1.0000\n",
      "Epoch 91/100\n",
      "11/11 [==============================] - 6s 555ms/step - loss: 0.1717 - accuracy: 0.9868 - val_loss: 0.1281 - val_accuracy: 1.0000\n",
      "Epoch 92/100\n",
      "11/11 [==============================] - 6s 558ms/step - loss: 0.1692 - accuracy: 0.9830 - val_loss: 0.1264 - val_accuracy: 1.0000\n",
      "Epoch 93/100\n",
      "11/11 [==============================] - 6s 553ms/step - loss: 0.2347 - accuracy: 0.9603 - val_loss: 0.1790 - val_accuracy: 0.9868\n",
      "Epoch 94/100\n",
      "11/11 [==============================] - 6s 579ms/step - loss: 0.2244 - accuracy: 0.9641 - val_loss: 0.1925 - val_accuracy: 0.9912\n",
      "Epoch 95/100\n",
      "11/11 [==============================] - 6s 558ms/step - loss: 0.2129 - accuracy: 0.9735 - val_loss: 0.1370 - val_accuracy: 1.0000\n",
      "Epoch 96/100\n",
      "11/11 [==============================] - 6s 560ms/step - loss: 0.2084 - accuracy: 0.9735 - val_loss: 0.1398 - val_accuracy: 1.0000\n",
      "Epoch 97/100\n",
      "11/11 [==============================] - 6s 560ms/step - loss: 0.1876 - accuracy: 0.9830 - val_loss: 0.1452 - val_accuracy: 0.9956\n",
      "Epoch 98/100\n",
      "11/11 [==============================] - 6s 568ms/step - loss: 0.1983 - accuracy: 0.9716 - val_loss: 0.1246 - val_accuracy: 1.0000\n",
      "Epoch 99/100\n",
      "11/11 [==============================] - 6s 582ms/step - loss: 0.1984 - accuracy: 0.9735 - val_loss: 0.1560 - val_accuracy: 1.0000\n",
      "Epoch 100/100\n",
      "11/11 [==============================] - 6s 575ms/step - loss: 0.2331 - accuracy: 0.9584 - val_loss: 0.1570 - val_accuracy: 1.0000\n"
     ]
    }
   ],
   "source": [
    "Model_3 = Sequential([\n",
    "    Dense(3000, activation='relu', kernel_regularizer='l2', input_shape = (754,)),\n",
    "    Dropout(0.3), \n",
    "    Dense(3000, activation='relu',kernel_regularizer='l2'),\n",
    "    Dropout(0.3),\n",
    "    Dense(3000, activation='relu', kernel_regularizer='l2'),\n",
    "    Dropout(0.3),\n",
    "    Dense(3000, activation='relu', kernel_regularizer='l2'),\n",
    "    Dropout(0.3),\n",
    "    Dense(1,activation='sigmoid')\n",
    "])\n",
    "\n",
    "\n",
    "Model_3.compile(optimizer=Adam(learning_rate=0.003),\n",
    "               loss=\"binary_crossentropy\",\n",
    "               metrics=['accuracy'])\n",
    "\n",
    "history_3 = Model_3.fit(X_train, y_train,\n",
    "                   batch_size=50,\n",
    "                   epochs=100,\n",
    "                   validation_data=(X_test,y_test))"
   ]
  },
  {
   "cell_type": "code",
   "execution_count": 138,
   "id": "9f96e987",
   "metadata": {
    "scrolled": true
   },
   "outputs": [
    {
     "name": "stdout",
     "output_type": "stream",
     "text": [
      "8/8 [==============================] - 1s 109ms/step - loss: 0.1570 - accuracy: 1.0000\n"
     ]
    },
    {
     "data": {
      "text/plain": [
       "[0.15700553357601166, 1.0]"
      ]
     },
     "execution_count": 138,
     "metadata": {},
     "output_type": "execute_result"
    }
   ],
   "source": [
    "Model_3.evaluate(X_test,y_test)"
   ]
  },
  {
   "cell_type": "markdown",
   "id": "2e16cfda",
   "metadata": {},
   "source": [
    "We see a perfect accuracy"
   ]
  },
  {
   "cell_type": "code",
   "execution_count": 139,
   "id": "d10d44cc",
   "metadata": {},
   "outputs": [
    {
     "data": {
      "text/plain": [
       "<function matplotlib.pyplot.show(close=None, block=None)>"
      ]
     },
     "execution_count": 139,
     "metadata": {},
     "output_type": "execute_result"
    },
    {
     "data": {
      "image/png": "[encoded data removed]",
      "text/plain": [
       "<Figure size 640x480 with 1 Axes>"
      ]
     },
     "metadata": {},
     "output_type": "display_data"
    }
   ],
   "source": [
    "plt.plot(history_3.history['loss'])\n",
    "plt.plot(history_3.history['val_loss'])\n",
    "plt.ylabel(\"Loss\")\n",
    "plt.xlabel('epochs')\n",
    "plt.legend(['Train', \"Val\"], loc='upper right')\n",
    "plt.title([\"Model_3 Loss\"])\n",
    "plt.show"
   ]
  },
  {
   "cell_type": "code",
   "execution_count": 140,
   "id": "180c61a5",
   "metadata": {},
   "outputs": [
    {
     "data": {
      "text/plain": [
       "<function matplotlib.pyplot.show(close=None, block=None)>"
      ]
     },
     "execution_count": 140,
     "metadata": {},
     "output_type": "execute_result"
    },
    {
     "data": {
      "image/png": "[encoded data removed]",
      "text/plain": [
       "<Figure size 640x480 with 1 Axes>"
      ]
     },
     "metadata": {},
     "output_type": "display_data"
    }
   ],
   "source": [
    "plt.plot(history_3.history['accuracy'])\n",
    "plt.plot(history_3.history['val_accuracy'])\n",
    "plt.ylabel(\"Accuracy\")\n",
    "plt.xlabel('epochs')\n",
    "plt.legend(['Train', \"Val\"], loc='lower right')\n",
    "plt.title([\"Model_3 Accuracy\"])\n",
    "plt.show"
   ]
  },
  {
   "cell_type": "markdown",
   "id": "024c4c5f",
   "metadata": {},
   "source": [
    "We see that the validation accuracy is higher.\n",
    "\n",
    "To be on the safe side, the number of neurons is reduced back to 2000 while using L2 regularization and dropout"
   ]
  },
  {
   "cell_type": "code",
   "execution_count": 155,
   "id": "9db6473e",
   "metadata": {},
   "outputs": [
    {
     "name": "stdout",
     "output_type": "stream",
     "text": [
      "Epoch 1/50\n",
      "11/11 [==============================] - 7s 605ms/step - loss: 0.4379 - accuracy: 0.7467 - val_loss: 0.3000 - val_accuracy: 0.7445\n",
      "Epoch 2/50\n",
      "11/11 [==============================] - 6s 588ms/step - loss: 0.4100 - accuracy: 0.7675 - val_loss: 0.2452 - val_accuracy: 1.0000\n",
      "Epoch 3/50\n",
      "11/11 [==============================] - 7s 609ms/step - loss: 0.3843 - accuracy: 0.8166 - val_loss: 0.2568 - val_accuracy: 0.8943\n",
      "Epoch 4/50\n",
      "11/11 [==============================] - 7s 603ms/step - loss: 0.3991 - accuracy: 0.8204 - val_loss: 0.2199 - val_accuracy: 1.0000\n",
      "Epoch 5/50\n",
      "11/11 [==============================] - 7s 600ms/step - loss: 0.4091 - accuracy: 0.8336 - val_loss: 0.2353 - val_accuracy: 0.9868\n",
      "Epoch 6/50\n",
      "11/11 [==============================] - 7s 593ms/step - loss: 0.4931 - accuracy: 0.7486 - val_loss: 0.3836 - val_accuracy: 0.7445\n",
      "Epoch 7/50\n",
      "11/11 [==============================] - 6s 564ms/step - loss: 0.4272 - accuracy: 0.8261 - val_loss: 0.2655 - val_accuracy: 0.9295\n",
      "Epoch 8/50\n",
      "11/11 [==============================] - 6s 580ms/step - loss: 0.4662 - accuracy: 0.8015 - val_loss: 0.3542 - val_accuracy: 0.9868\n",
      "Epoch 9/50\n",
      "11/11 [==============================] - 6s 575ms/step - loss: 0.4092 - accuracy: 0.8204 - val_loss: 0.3102 - val_accuracy: 0.9163\n",
      "Epoch 10/50\n",
      "11/11 [==============================] - 6s 571ms/step - loss: 0.3397 - accuracy: 0.9036 - val_loss: 0.2154 - val_accuracy: 0.9780\n",
      "Epoch 11/50\n",
      "11/11 [==============================] - 7s 606ms/step - loss: 0.3920 - accuracy: 0.8601 - val_loss: 0.2289 - val_accuracy: 1.0000\n",
      "Epoch 12/50\n",
      "11/11 [==============================] - 6s 580ms/step - loss: 0.3518 - accuracy: 0.8620 - val_loss: 0.2125 - val_accuracy: 0.9824\n",
      "Epoch 13/50\n",
      "11/11 [==============================] - 6s 580ms/step - loss: 0.3576 - accuracy: 0.8733 - val_loss: 0.1950 - val_accuracy: 0.9912\n",
      "Epoch 14/50\n",
      "11/11 [==============================] - 6s 573ms/step - loss: 0.3052 - accuracy: 0.9055 - val_loss: 0.2142 - val_accuracy: 0.9604\n",
      "Epoch 15/50\n",
      "11/11 [==============================] - 6s 574ms/step - loss: 0.2843 - accuracy: 0.9225 - val_loss: 0.1569 - val_accuracy: 1.0000\n",
      "Epoch 16/50\n",
      "11/11 [==============================] - 6s 574ms/step - loss: 0.3021 - accuracy: 0.9055 - val_loss: 0.2708 - val_accuracy: 0.9031\n",
      "Epoch 17/50\n",
      "11/11 [==============================] - 6s 582ms/step - loss: 0.2932 - accuracy: 0.9093 - val_loss: 0.1704 - val_accuracy: 1.0000\n",
      "Epoch 18/50\n",
      "11/11 [==============================] - 6s 569ms/step - loss: 0.2795 - accuracy: 0.9187 - val_loss: 0.1628 - val_accuracy: 1.0000\n",
      "Epoch 19/50\n",
      "11/11 [==============================] - 6s 574ms/step - loss: 0.2364 - accuracy: 0.9414 - val_loss: 0.1334 - val_accuracy: 1.0000\n",
      "Epoch 20/50\n",
      "11/11 [==============================] - 6s 560ms/step - loss: 0.2268 - accuracy: 0.9471 - val_loss: 0.1314 - val_accuracy: 1.0000\n",
      "Epoch 21/50\n",
      "11/11 [==============================] - 6s 568ms/step - loss: 0.2537 - accuracy: 0.9301 - val_loss: 0.1397 - val_accuracy: 0.9956\n",
      "Epoch 22/50\n",
      "11/11 [==============================] - 6s 559ms/step - loss: 0.2696 - accuracy: 0.9187 - val_loss: 0.1575 - val_accuracy: 0.9956\n",
      "Epoch 23/50\n",
      "11/11 [==============================] - 6s 564ms/step - loss: 0.2797 - accuracy: 0.9093 - val_loss: 0.1613 - val_accuracy: 1.0000\n",
      "Epoch 24/50\n",
      "11/11 [==============================] - 6s 564ms/step - loss: 0.2611 - accuracy: 0.9187 - val_loss: 0.1451 - val_accuracy: 0.9912\n",
      "Epoch 25/50\n",
      "11/11 [==============================] - 6s 564ms/step - loss: 0.2361 - accuracy: 0.9338 - val_loss: 0.1516 - val_accuracy: 0.9824\n",
      "Epoch 26/50\n",
      "11/11 [==============================] - 6s 555ms/step - loss: 0.2617 - accuracy: 0.9168 - val_loss: 0.1470 - val_accuracy: 0.9956\n",
      "Epoch 27/50\n",
      "11/11 [==============================] - 7s 600ms/step - loss: 0.2599 - accuracy: 0.9244 - val_loss: 0.1572 - val_accuracy: 0.9912\n",
      "Epoch 28/50\n",
      "11/11 [==============================] - 6s 583ms/step - loss: 0.2568 - accuracy: 0.9187 - val_loss: 0.1466 - val_accuracy: 0.9956\n",
      "Epoch 29/50\n",
      "11/11 [==============================] - 6s 569ms/step - loss: 0.2509 - accuracy: 0.9225 - val_loss: 0.1481 - val_accuracy: 0.9956\n",
      "Epoch 30/50\n",
      "11/11 [==============================] - 6s 558ms/step - loss: 0.2687 - accuracy: 0.9093 - val_loss: 0.1468 - val_accuracy: 1.0000\n",
      "Epoch 31/50\n",
      "11/11 [==============================] - 6s 561ms/step - loss: 0.3291 - accuracy: 0.8809 - val_loss: 0.1855 - val_accuracy: 0.9868\n",
      "Epoch 32/50\n",
      "11/11 [==============================] - 6s 567ms/step - loss: 0.2956 - accuracy: 0.8941 - val_loss: 0.1655 - val_accuracy: 1.0000\n",
      "Epoch 33/50\n",
      "11/11 [==============================] - 6s 577ms/step - loss: 0.2995 - accuracy: 0.9017 - val_loss: 0.1502 - val_accuracy: 1.0000\n",
      "Epoch 34/50\n",
      "11/11 [==============================] - 6s 553ms/step - loss: 0.2824 - accuracy: 0.9093 - val_loss: 0.1808 - val_accuracy: 0.9824\n",
      "Epoch 35/50\n",
      "11/11 [==============================] - 6s 560ms/step - loss: 0.2261 - accuracy: 0.9509 - val_loss: 0.1537 - val_accuracy: 0.9912\n",
      "Epoch 36/50\n",
      "11/11 [==============================] - 6s 572ms/step - loss: 0.2896 - accuracy: 0.9168 - val_loss: 0.1326 - val_accuracy: 1.0000\n",
      "Epoch 37/50\n",
      "11/11 [==============================] - 7s 593ms/step - loss: 0.2516 - accuracy: 0.9282 - val_loss: 0.1513 - val_accuracy: 1.0000\n",
      "Epoch 38/50\n",
      "11/11 [==============================] - 6s 570ms/step - loss: 0.2612 - accuracy: 0.9187 - val_loss: 0.1511 - val_accuracy: 0.9956\n",
      "Epoch 39/50\n",
      "11/11 [==============================] - 6s 559ms/step - loss: 0.2688 - accuracy: 0.9168 - val_loss: 0.1316 - val_accuracy: 1.0000\n",
      "Epoch 40/50\n",
      "11/11 [==============================] - 6s 561ms/step - loss: 0.1997 - accuracy: 0.9546 - val_loss: 0.1299 - val_accuracy: 0.9956\n",
      "Epoch 41/50\n",
      "11/11 [==============================] - 6s 575ms/step - loss: 0.2209 - accuracy: 0.9433 - val_loss: 0.1230 - val_accuracy: 1.0000\n",
      "Epoch 42/50\n",
      "11/11 [==============================] - 6s 565ms/step - loss: 0.2422 - accuracy: 0.9319 - val_loss: 0.1246 - val_accuracy: 1.0000\n",
      "Epoch 43/50\n",
      "11/11 [==============================] - 6s 566ms/step - loss: 0.2311 - accuracy: 0.9357 - val_loss: 0.1438 - val_accuracy: 1.0000\n",
      "Epoch 44/50\n",
      "11/11 [==============================] - 6s 573ms/step - loss: 0.2452 - accuracy: 0.9263 - val_loss: 0.1323 - val_accuracy: 1.0000\n",
      "Epoch 45/50\n",
      "11/11 [==============================] - 6s 568ms/step - loss: 0.2370 - accuracy: 0.9319 - val_loss: 0.1289 - val_accuracy: 1.0000\n",
      "Epoch 46/50\n",
      "11/11 [==============================] - 6s 564ms/step - loss: 0.2383 - accuracy: 0.9319 - val_loss: 0.1348 - val_accuracy: 1.0000\n",
      "Epoch 47/50\n",
      "11/11 [==============================] - 6s 582ms/step - loss: 0.2503 - accuracy: 0.9244 - val_loss: 0.1341 - val_accuracy: 1.0000\n",
      "Epoch 48/50\n",
      "11/11 [==============================] - 6s 578ms/step - loss: 0.2609 - accuracy: 0.9225 - val_loss: 0.1429 - val_accuracy: 1.0000\n",
      "Epoch 49/50\n",
      "11/11 [==============================] - 6s 580ms/step - loss: 0.2719 - accuracy: 0.9130 - val_loss: 0.3394 - val_accuracy: 0.8150\n",
      "Epoch 50/50\n",
      "11/11 [==============================] - 6s 583ms/step - loss: 0.2865 - accuracy: 0.8998 - val_loss: 0.1637 - val_accuracy: 0.9868\n"
     ]
    }
   ],
   "source": [
    "Model_4 = Sequential([\n",
    "    Dense(2000, activation='relu', kernel_regularizer='l2', input_shape = (754,)),\n",
    "    Dropout(0.3), \n",
    "    Dense(2000, activation='relu',kernel_regularizer='l2'),\n",
    "    Dropout(0.3),\n",
    "    Dense(2000, activation='relu', kernel_regularizer='l2'),\n",
    "    Dropout(0.3),\n",
    "    Dense(2000, activation='relu', kernel_regularizer='l2'),\n",
    "    Dropout(0.3),\n",
    "    Dense(1,activation='sigmoid')\n",
    "])\n",
    "\n",
    "\n",
    "Model_4.compile(optimizer=Adam(learning_rate=0.003),\n",
    "               loss=\"binary_crossentropy\",\n",
    "               metrics=['accuracy'])\n",
    "\n",
    "history_4 = Model_3.fit(X_train, y_train,\n",
    "                   batch_size=50,\n",
    "                   epochs=50,\n",
    "                   validation_data=(X_test,y_test))"
   ]
  },
  {
   "cell_type": "code",
   "execution_count": 159,
   "id": "2cb86d60",
   "metadata": {},
   "outputs": [
    {
     "name": "stdout",
     "output_type": "stream",
     "text": [
      "8/8 [==============================] - 1s 72ms/step - loss: 71.6701 - accuracy: 0.2467\n"
     ]
    },
    {
     "data": {
      "text/plain": [
       "[71.67008972167969, 0.24669604003429413]"
      ]
     },
     "execution_count": 159,
     "metadata": {},
     "output_type": "execute_result"
    }
   ],
   "source": [
    "Model_4.evaluate(X_test,y_test)"
   ]
  },
  {
   "cell_type": "code",
   "execution_count": 157,
   "id": "0d11f922",
   "metadata": {},
   "outputs": [
    {
     "data": {
      "text/plain": [
       "<function matplotlib.pyplot.show(close=None, block=None)>"
      ]
     },
     "execution_count": 157,
     "metadata": {},
     "output_type": "execute_result"
    },
    {
     "data": {
      "image/png": "[encoded data removed]",
      "text/plain": [
       "<Figure size 640x480 with 1 Axes>"
      ]
     },
     "metadata": {},
     "output_type": "display_data"
    }
   ],
   "source": [
    "plt.plot(history_4.history['loss'])\n",
    "plt.plot(history_4.history['val_loss'])\n",
    "plt.ylabel(\"Loss\")\n",
    "plt.xlabel('epochs')\n",
    "plt.legend(['Train', \"Val\"], loc='upper right')\n",
    "plt.title([\"Model_4 Loss\"])\n",
    "plt.show"
   ]
  },
  {
   "cell_type": "code",
   "execution_count": 158,
   "id": "1aa26b49",
   "metadata": {},
   "outputs": [
    {
     "data": {
      "text/plain": [
       "<function matplotlib.pyplot.show(close=None, block=None)>"
      ]
     },
     "execution_count": 158,
     "metadata": {},
     "output_type": "execute_result"
    },
    {
     "data": {
      "image/png": "[encoded data removed]",
      "text/plain": [
       "<Figure size 640x480 with 1 Axes>"
      ]
     },
     "metadata": {},
     "output_type": "display_data"
    }
   ],
   "source": [
    "plt.plot(history_4.history['accuracy'])\n",
    "plt.plot(history_4.history['val_accuracy'])\n",
    "plt.ylabel(\"Accuracy\")\n",
    "plt.xlabel('epochs')\n",
    "plt.legend(['Train', \"Val\"], loc='lower right')\n",
    "plt.title([\"Model_4 Accuracy\"])\n",
    "plt.show"
   ]
  },
  {
   "cell_type": "markdown",
   "id": "ffc10065",
   "metadata": {},
   "source": [
    "We see the validation loss is lower than training loss and training accuracy is greater than training accuracy.\n",
    "\n",
    "This is unual; normally, the validation accuracy on the test is usually a bit lower or at the same as the train. To be sure, a larger portion of data can be allocated to the test set. \n",
    "\n",
    "A suggestion is that a test set should be separated from the validation set before modelling. Then the final model should be run on the test set.\n",
    "\n"
   ]
  },
  {
   "cell_type": "code",
   "execution_count": null,
   "id": "0d4d0cf0",
   "metadata": {},
   "outputs": [],
   "source": []
  }
 ],
 "metadata": {
  "kernelspec": {
   "display_name": "Python 3 (ipykernel)",
   "language": "python",
   "name": "python3"
  },
  "language_info": {
   "codemirror_mode": {
    "name": "ipython",
    "version": 3
   },
   "file_extension": ".py",
   "mimetype": "text/x-python",
   "name": "python",
   "nbconvert_exporter": "python",
   "pygments_lexer": "ipython3",
   "version": "3.9.13"
  }
 },
 "nbformat": 4,
 "nbformat_minor": 5
}
